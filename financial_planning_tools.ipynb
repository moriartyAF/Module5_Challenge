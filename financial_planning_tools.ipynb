{
 "cells": [
  {
   "cell_type": "markdown",
   "metadata": {},
   "source": [
    "# Financial Planning with APIs and Simulations\n",
    "\n",
    "In this Challenge, you’ll create two financial analysis tools by using a single Jupyter notebook:\n",
    "\n",
    "Part 1: A financial planner for emergencies. The members will be able to use this tool to visualize their current savings. The members can then determine if they have enough reserves for an emergency fund.\n",
    "\n",
    "Part 2: A financial planner for retirement. This tool will forecast the performance of their retirement portfolio in 30 years. To do this, the tool will make an Alpaca API call via the Alpaca SDK to get historical price data for use in Monte Carlo simulations.\n",
    "\n",
    "You’ll use the information from the Monte Carlo simulation to answer questions about the portfolio in your Jupyter notebook.\n",
    "\n"
   ]
  },
  {
   "cell_type": "code",
   "execution_count": 1,
   "metadata": {},
   "outputs": [],
   "source": [
    "# Import the required libraries and dependencies\n",
    "import os\n",
    "import requests\n",
    "import json\n",
    "import pandas as pd\n",
    "from dotenv import load_dotenv\n",
    "import alpaca_trade_api as tradeapi\n",
    "from MCForecastTools import MCSimulation\n",
    "import locale\n",
    "import datetime\n",
    "\n",
    "%matplotlib inline"
   ]
  },
  {
   "cell_type": "code",
   "execution_count": 2,
   "metadata": {},
   "outputs": [
    {
     "data": {
      "text/plain": [
       "True"
      ]
     },
     "execution_count": 2,
     "metadata": {},
     "output_type": "execute_result"
    }
   ],
   "source": [
    "# Load the environment variables from the .env file\n",
    "#by calling the load_dotenv function\n",
    "locale.setlocale( locale.LC_ALL,'English_United States.1252')\n",
    "load_dotenv()"
   ]
  },
  {
   "cell_type": "markdown",
   "metadata": {},
   "source": [
    "## Part 1: Create a Financial Planner for Emergencies"
   ]
  },
  {
   "cell_type": "markdown",
   "metadata": {},
   "source": [
    "### Evaluate the Cryptocurrency Wallet by Using the Requests Library\n",
    "\n",
    "In this section, you’ll determine the current value of a member’s cryptocurrency wallet. You’ll collect the current prices for the Bitcoin and Ethereum cryptocurrencies by using the Python Requests library. For the prototype, you’ll assume that the member holds the 1.2 Bitcoins (BTC) and 5.3 Ethereum coins (ETH). To do all this, complete the following steps:\n",
    "\n",
    "1. Create a variable named `monthly_income`, and set its value to `12000`.\n",
    "\n",
    "2. Use the Requests library to get the current price (in US dollars) of Bitcoin (BTC) and Ethereum (ETH) by using the API endpoints that the starter code supplies.\n",
    "\n",
    "3. Navigate the JSON response object to access the current price of each coin, and store each in a variable.\n",
    "\n",
    "    > **Hint** Note the specific identifier for each cryptocurrency in the API JSON response. The Bitcoin identifier is `1`, and the Ethereum identifier is `1027`.\n",
    "\n",
    "4. Calculate the value, in US dollars, of the current amount of each cryptocurrency and of the entire cryptocurrency wallet.\n",
    "\n"
   ]
  },
  {
   "cell_type": "code",
   "execution_count": 3,
   "metadata": {},
   "outputs": [],
   "source": [
    "# The current number of coins for each cryptocurrency asset held in the portfolio.\n",
    "btc_coins = 1.2\n",
    "eth_coins = 5.3"
   ]
  },
  {
   "cell_type": "markdown",
   "metadata": {},
   "source": [
    "#### Step 1: Create a variable named `monthly_income`, and set its value to `12000`."
   ]
  },
  {
   "cell_type": "code",
   "execution_count": 4,
   "metadata": {},
   "outputs": [],
   "source": [
    "# The monthly amount for the member's household income\n",
    "monthly_income = 12000\n"
   ]
  },
  {
   "cell_type": "markdown",
   "metadata": {},
   "source": [
    "#### Review the endpoint URLs for the API calls to Free Crypto API in order to get the current pricing information for both BTC and ETH."
   ]
  },
  {
   "cell_type": "code",
   "execution_count": 5,
   "metadata": {},
   "outputs": [],
   "source": [
    "# The Free Crypto API Call endpoint URLs for the held cryptocurrency assets\n",
    "btc_url = \"https://api.alternative.me/v2/ticker/Bitcoin/?convert=USD\"\n",
    "eth_url = \"https://api.alternative.me/v2/ticker/Ethereum/?convert=USD\""
   ]
  },
  {
   "cell_type": "markdown",
   "metadata": {},
   "source": [
    "#### Step 2. Use the Requests library to get the current price (in US dollars) of Bitcoin (BTC) and Ethereum (ETH) by using the API endpoints that the starter code supplied."
   ]
  },
  {
   "cell_type": "code",
   "execution_count": 6,
   "metadata": {},
   "outputs": [
    {
     "name": "stdout",
     "output_type": "stream",
     "text": [
      "{\n",
      "  \"data\": {\n",
      "    \"1\": {\n",
      "      \"circulating_supply\": 18760100,\n",
      "      \"id\": 1,\n",
      "      \"last_updated\": 1626641063,\n",
      "      \"max_supply\": 21000000,\n",
      "      \"name\": \"Bitcoin\",\n",
      "      \"quotes\": {\n",
      "        \"USD\": {\n",
      "          \"market_cap\": 595008208911,\n",
      "          \"percent_change_1h\": 0.220662326703062,\n",
      "          \"percent_change_24h\": -0.190861560066337,\n",
      "          \"percent_change_7d\": -5.80711147369674,\n",
      "          \"percentage_change_1h\": 0.220662326703062,\n",
      "          \"percentage_change_24h\": -0.190861560066337,\n",
      "          \"percentage_change_7d\": -5.80711147369674,\n",
      "          \"price\": 31747.0,\n",
      "          \"volume_24h\": 17080176128\n",
      "        }\n",
      "      },\n",
      "      \"rank\": 1,\n",
      "      \"symbol\": \"BTC\",\n",
      "      \"total_supply\": 18760100,\n",
      "      \"website_slug\": \"bitcoin\"\n",
      "    }\n",
      "  },\n",
      "  \"metadata\": {\n",
      "    \"error\": null,\n",
      "    \"num_cryptocurrencies\": 3123,\n",
      "    \"timestamp\": 1626641063\n",
      "  }\n",
      "}\n"
     ]
    }
   ],
   "source": [
    "# Using the Python requests library, make an API call to access the current price of BTC\n",
    "btc_response = requests.get(btc_url).json()\n",
    "\n",
    "# Use the json.dumps function to review the response data from the API call\n",
    "# Use the indent and sort_keys parameters to make the response object readable\n",
    "print(json.dumps(btc_response,indent=2,sort_keys=True))\n"
   ]
  },
  {
   "cell_type": "code",
   "execution_count": 7,
   "metadata": {},
   "outputs": [
    {
     "name": "stdout",
     "output_type": "stream",
     "text": [
      "{\n",
      "  \"data\": {\n",
      "    \"1027\": {\n",
      "      \"circulating_supply\": 116746353,\n",
      "      \"id\": 1027,\n",
      "      \"last_updated\": 1626641067,\n",
      "      \"max_supply\": 0,\n",
      "      \"name\": \"Ethereum\",\n",
      "      \"quotes\": {\n",
      "        \"USD\": {\n",
      "          \"market_cap\": 222533306582,\n",
      "          \"percent_change_1h\": -0.0360536165715821,\n",
      "          \"percent_change_24h\": -0.0788994026400358,\n",
      "          \"percent_change_7d\": -10.3103517260662,\n",
      "          \"percentage_change_1h\": -0.0360536165715821,\n",
      "          \"percentage_change_24h\": -0.0788994026400358,\n",
      "          \"percentage_change_7d\": -10.3103517260662,\n",
      "          \"price\": 1904.16,\n",
      "          \"volume_24h\": 14963399388\n",
      "        }\n",
      "      },\n",
      "      \"rank\": 2,\n",
      "      \"symbol\": \"ETH\",\n",
      "      \"total_supply\": 116746353,\n",
      "      \"website_slug\": \"ethereum\"\n",
      "    }\n",
      "  },\n",
      "  \"metadata\": {\n",
      "    \"error\": null,\n",
      "    \"num_cryptocurrencies\": 3123,\n",
      "    \"timestamp\": 1626641067\n",
      "  }\n",
      "}\n"
     ]
    }
   ],
   "source": [
    "# Using the Python requests library, make an API call to access the current price ETH\n",
    "eth_response = requests.get(eth_url).json()\n",
    "\n",
    "# Use the json.dumps function to review the response data from the API call\n",
    "# Use the indent and sort_keys parameters to make the response object readable\n",
    "print(json.dumps(eth_response,indent=2,sort_keys=True))\n"
   ]
  },
  {
   "cell_type": "markdown",
   "metadata": {},
   "source": [
    "#### Step 3: Navigate the JSON response object to access the current price of each coin, and store each in a variable."
   ]
  },
  {
   "cell_type": "code",
   "execution_count": 8,
   "metadata": {},
   "outputs": [
    {
     "name": "stdout",
     "output_type": "stream",
     "text": [
      "The current USD price of BTC is $31,747.00.\n"
     ]
    }
   ],
   "source": [
    "# Navigate the BTC response object to access the current price of BTC\n",
    "btc_price = btc_response[\"data\"][\"1\"][\"quotes\"][\"USD\"][\"price\"]\n",
    "btc_price_formatted = locale.currency(btc_price,grouping=True)\n",
    "\n",
    "# Print the current price of BTC\n",
    "print(f\"The current USD price of BTC is {btc_price_formatted}.\")\n"
   ]
  },
  {
   "cell_type": "code",
   "execution_count": 9,
   "metadata": {},
   "outputs": [
    {
     "name": "stdout",
     "output_type": "stream",
     "text": [
      "The current USD price of ETH is $1,904.16.\n"
     ]
    }
   ],
   "source": [
    "# Navigate the BTC response object to access the current price of ETH\n",
    "eth_price = eth_response[\"data\"][\"1027\"][\"quotes\"][\"USD\"][\"price\"]\n",
    "eth_price_formatted = locale.currency(eth_price,grouping=True)\n",
    "\n",
    "# Print the current price of ETH\n",
    "print(f\"The current USD price of ETH is {eth_price_formatted}.\")"
   ]
  },
  {
   "cell_type": "markdown",
   "metadata": {},
   "source": [
    "### Step 4: Calculate the value, in US dollars, of the current amount of each cryptocurrency and of the entire cryptocurrency wallet."
   ]
  },
  {
   "cell_type": "code",
   "execution_count": 10,
   "metadata": {},
   "outputs": [
    {
     "name": "stdout",
     "output_type": "stream",
     "text": [
      "The current USD value of BTC holdings is $38,096.40.\n"
     ]
    }
   ],
   "source": [
    "# Compute the current value of the BTC holding \n",
    "btc_value = btc_price * btc_coins\n",
    "btc_value_formatted = locale.currency(btc_value,grouping=True)\n",
    "\n",
    "# Print current value of your holding in BTC\n",
    "print(f\"The current USD value of BTC holdings is {btc_value_formatted}.\")\n"
   ]
  },
  {
   "cell_type": "code",
   "execution_count": 11,
   "metadata": {},
   "outputs": [
    {
     "name": "stdout",
     "output_type": "stream",
     "text": [
      "The current USD value of ETH holdings is $10,092.05.\n"
     ]
    }
   ],
   "source": [
    "# Compute the current value of the ETH holding \n",
    "eth_value = eth_price * eth_coins\n",
    "eth_value_formatted = locale.currency(eth_value,grouping=True)\n",
    "\n",
    "# Print current value of your holding in ETH\n",
    "print(f\"The current USD value of ETH holdings is {eth_value_formatted}.\")\n"
   ]
  },
  {
   "cell_type": "code",
   "execution_count": 12,
   "metadata": {},
   "outputs": [
    {
     "name": "stdout",
     "output_type": "stream",
     "text": [
      "The current USD value of the crypto wallet holdings is $48,188.45.\n"
     ]
    }
   ],
   "source": [
    "# Compute the total value of the cryptocurrency wallet\n",
    "# Add the value of the BTC holding to the value of the ETH holding\n",
    "total_crypto_wallet = btc_value + eth_value\n",
    "total_crypto_wallet_formatted = locale.currency(total_crypto_wallet,grouping=True)\n",
    "\n",
    "# Print current cryptocurrency wallet balance\n",
    "print(f\"The current USD value of the crypto wallet holdings is {total_crypto_wallet_formatted}.\")\n"
   ]
  },
  {
   "cell_type": "markdown",
   "metadata": {},
   "source": [
    "### Evaluate the Stock and Bond Holdings by Using the Alpaca SDK\n",
    "\n",
    "In this section, you’ll determine the current value of a member’s stock and bond holdings. You’ll make an API call to Alpaca via the Alpaca SDK to get the current closing prices of the SPDR S&P 500 ETF Trust (ticker: SPY) and of the iShares Core US Aggregate Bond ETF (ticker: AGG). For the prototype, assume that the member holds 110 shares of SPY, which represents the stock portion of their portfolio, and 200 shares of AGG, which represents the bond portion. To do all this, complete the following steps:\n",
    "\n",
    "1. In the `Starter_Code` folder, create an environment file (`.env`) to store the values of your Alpaca API key and Alpaca secret key.\n",
    "\n",
    "2. Set the variables for the Alpaca API and secret keys. Using the Alpaca SDK, create the Alpaca `tradeapi.REST` object. In this object, include the parameters for the Alpaca API key, the secret key, and the version number.\n",
    "\n",
    "3. Set the following parameters for the Alpaca API call:\n",
    "\n",
    "    - `tickers`: Use the tickers for the member’s stock and bond holdings.\n",
    "\n",
    "    - `timeframe`: Use a time frame of one day.\n",
    "\n",
    "    - `start_date` and `end_date`: Use the same date for these parameters, and format them with the date of the previous weekday (or `2020-08-07`). This is because you want the one closing price for the most-recent trading day.\n",
    "\n",
    "4. Get the current closing prices for `SPY` and `AGG` by using the Alpaca `get_barset` function. Format the response as a Pandas DataFrame by including the `df` property at the end of the `get_barset` function.\n",
    "\n",
    "5. Navigating the Alpaca response DataFrame, select the `SPY` and `AGG` closing prices, and store them as variables.\n",
    "\n",
    "6. Calculate the value, in US dollars, of the current amount of shares in each of the stock and bond portions of the portfolio, and print the results.\n"
   ]
  },
  {
   "cell_type": "markdown",
   "metadata": {},
   "source": [
    "#### Review the total number of shares held in both (SPY) and (AGG)."
   ]
  },
  {
   "cell_type": "code",
   "execution_count": 13,
   "metadata": {},
   "outputs": [],
   "source": [
    "# Current amount of shares held in both the stock (SPY) and bond (AGG) portion of the portfolio.\n",
    "spy_shares = 110\n",
    "agg_shares = 200\n"
   ]
  },
  {
   "cell_type": "markdown",
   "metadata": {},
   "source": [
    "#### Step 1: In the `Starter_Code` folder, create an environment file (`.env`) to store the values of your Alpaca API key and Alpaca secret key."
   ]
  },
  {
   "cell_type": "markdown",
   "metadata": {},
   "source": [
    "#### Step 2: Set the variables for the Alpaca API and secret keys. Using the Alpaca SDK, create the Alpaca `tradeapi.REST` object. In this object, include the parameters for the Alpaca API key, the secret key, and the version number."
   ]
  },
  {
   "cell_type": "code",
   "execution_count": 14,
   "metadata": {},
   "outputs": [],
   "source": [
    "# Set the variables for the Alpaca API and secret keys\n",
    "alpaca_api_key = os.getenv(\"ALPACA_API_KEY\")\n",
    "alpaca_secret_key = os.getenv(\"ALPACA_SECRET_KEY\")\n",
    "\n",
    "# Create the Alpaca tradeapi.REST object\n",
    "alpaca = tradeapi.REST(alpaca_api_key,alpaca_secret_key,api_version=\"v2\")\n"
   ]
  },
  {
   "cell_type": "markdown",
   "metadata": {},
   "source": [
    "#### Step 3: Set the following parameters for the Alpaca API call:\n",
    "\n",
    "- `tickers`: Use the tickers for the member’s stock and bond holdings.\n",
    "\n",
    "- `timeframe`: Use a time frame of one day.\n",
    "\n",
    "- `start_date` and `end_date`: Use the same date for these parameters, and format them with the date of the previous weekday (or `2020-08-07`). This is because you want the one closing price for the most-recent trading day.\n"
   ]
  },
  {
   "cell_type": "code",
   "execution_count": 15,
   "metadata": {},
   "outputs": [
    {
     "data": {
      "text/plain": [
       "'2021-07-16T00:00:00-04:00'"
      ]
     },
     "metadata": {},
     "output_type": "display_data"
    },
    {
     "data": {
      "text/plain": [
       "'2021-07-16T00:00:00-04:00'"
      ]
     },
     "metadata": {},
     "output_type": "display_data"
    }
   ],
   "source": [
    "# Set the tickers for both the bond and stock portion of the portfolio\n",
    "tickers = [\"SPY\",\"AGG\"]\n",
    "\n",
    "# Set timeframe to 1D \n",
    "timeframe = \"1D\"\n",
    "\n",
    "# Format current date as ISO format\n",
    "last_trading_date = \"2021-07-16\"\n",
    "\n",
    "# Set both the start and end date at the date of your prior weekday \n",
    "# This will give you the closing price of the previous trading day\n",
    "# Alternatively you can use a start and end date of 2020-08-07\n",
    "start_date = pd.Timestamp(last_trading_date,tz=\"America/New_York\").isoformat()\n",
    "end_date = pd.Timestamp(last_trading_date,tz=\"America/New_York\").isoformat()\n",
    "\n",
    "display(start_date)\n",
    "display(end_date)"
   ]
  },
  {
   "cell_type": "markdown",
   "metadata": {},
   "source": [
    "#### Step 4: Get the current closing prices for `SPY` and `AGG` by using the Alpaca `get_barset` function. Format the response as a Pandas DataFrame by including the `df` property at the end of the `get_barset` function."
   ]
  },
  {
   "cell_type": "code",
   "execution_count": 16,
   "metadata": {},
   "outputs": [
    {
     "data": {
      "text/html": [
       "<div>\n",
       "<style scoped>\n",
       "    .dataframe tbody tr th:only-of-type {\n",
       "        vertical-align: middle;\n",
       "    }\n",
       "\n",
       "    .dataframe tbody tr th {\n",
       "        vertical-align: top;\n",
       "    }\n",
       "\n",
       "    .dataframe thead tr th {\n",
       "        text-align: left;\n",
       "    }\n",
       "\n",
       "    .dataframe thead tr:last-of-type th {\n",
       "        text-align: right;\n",
       "    }\n",
       "</style>\n",
       "<table border=\"1\" class=\"dataframe\">\n",
       "  <thead>\n",
       "    <tr>\n",
       "      <th></th>\n",
       "      <th colspan=\"5\" halign=\"left\">AGG</th>\n",
       "      <th colspan=\"5\" halign=\"left\">SPY</th>\n",
       "    </tr>\n",
       "    <tr>\n",
       "      <th></th>\n",
       "      <th>open</th>\n",
       "      <th>high</th>\n",
       "      <th>low</th>\n",
       "      <th>close</th>\n",
       "      <th>volume</th>\n",
       "      <th>open</th>\n",
       "      <th>high</th>\n",
       "      <th>low</th>\n",
       "      <th>close</th>\n",
       "      <th>volume</th>\n",
       "    </tr>\n",
       "    <tr>\n",
       "      <th>time</th>\n",
       "      <th></th>\n",
       "      <th></th>\n",
       "      <th></th>\n",
       "      <th></th>\n",
       "      <th></th>\n",
       "      <th></th>\n",
       "      <th></th>\n",
       "      <th></th>\n",
       "      <th></th>\n",
       "      <th></th>\n",
       "    </tr>\n",
       "  </thead>\n",
       "  <tbody>\n",
       "    <tr>\n",
       "      <th>2021-07-16 00:00:00-04:00</th>\n",
       "      <td>115.77</td>\n",
       "      <td>115.96</td>\n",
       "      <td>115.76</td>\n",
       "      <td>115.9</td>\n",
       "      <td>3679747</td>\n",
       "      <td>436</td>\n",
       "      <td>436.06</td>\n",
       "      <td>430.92</td>\n",
       "      <td>431.38</td>\n",
       "      <td>66637403</td>\n",
       "    </tr>\n",
       "  </tbody>\n",
       "</table>\n",
       "</div>"
      ],
      "text/plain": [
       "                              AGG                                  SPY  \\\n",
       "                             open    high     low  close   volume open   \n",
       "time                                                                     \n",
       "2021-07-16 00:00:00-04:00  115.77  115.96  115.76  115.9  3679747  436   \n",
       "\n",
       "                                                             \n",
       "                             high     low   close    volume  \n",
       "time                                                         \n",
       "2021-07-16 00:00:00-04:00  436.06  430.92  431.38  66637403  "
      ]
     },
     "execution_count": 16,
     "metadata": {},
     "output_type": "execute_result"
    }
   ],
   "source": [
    "# Use the Alpaca get_barset function to get current closing prices the portfolio\n",
    "# Be sure to set the `df` property after the function to format the response object as a DataFrame\n",
    "prices_df = alpaca.get_barset(tickers,timeframe,start=start_date,end=end_date).df\n",
    "\n",
    "# Review the first 5 rows of the Alpaca DataFrame\n",
    "prices_df.head()\n"
   ]
  },
  {
   "cell_type": "markdown",
   "metadata": {},
   "source": [
    "#### Step 5: Navigating the Alpaca response DataFrame, select the `SPY` and `AGG` closing prices, and store them as variables."
   ]
  },
  {
   "cell_type": "code",
   "execution_count": 17,
   "metadata": {},
   "outputs": [
    {
     "name": "stdout",
     "output_type": "stream",
     "text": [
      "The closing price for AGG as of 2021-07-16 was 115.9.\n"
     ]
    }
   ],
   "source": [
    "# Access the closing price for AGG from the Alpaca DataFrame\n",
    "# Converting the value to a floating point number\n",
    "agg_closing_price_df = pd.DataFrame()\n",
    "agg_closing_price_df[\"AGG\"] = prices_df[\"AGG\"][\"close\"]\n",
    "agg_closing_price = agg_closing_price_df.iloc[0,0]\n",
    "\n",
    "# Print the AGG closing price\n",
    "print(f\"The closing price for AGG as of {last_trading_date} was {agg_closing_price}.\")\n"
   ]
  },
  {
   "cell_type": "code",
   "execution_count": 18,
   "metadata": {},
   "outputs": [
    {
     "name": "stdout",
     "output_type": "stream",
     "text": [
      "The closing price for SPY as of 2021-07-16 was 431.38.\n"
     ]
    }
   ],
   "source": [
    "# Access the closing price for SPY from the Alpaca DataFrame\n",
    "# Converting the value to a floating point number\n",
    "spy_closing_price_df = pd.DataFrame()\n",
    "spy_closing_price_df[\"SPY\"] = prices_df[\"SPY\"][\"close\"]\n",
    "spy_closing_price = spy_closing_price_df.iloc[0,0]\n",
    "\n",
    "# Print the SPY closing price\n",
    "print(f\"The closing price for SPY as of {last_trading_date} was {spy_closing_price}.\")\n"
   ]
  },
  {
   "cell_type": "markdown",
   "metadata": {},
   "source": [
    "#### Step 6: Calculate the value, in US dollars, of the current amount of shares in each of the stock and bond portions of the portfolio, and print the results."
   ]
  },
  {
   "cell_type": "code",
   "execution_count": 19,
   "metadata": {},
   "outputs": [
    {
     "name": "stdout",
     "output_type": "stream",
     "text": [
      "The current USD value of AGG holdings is $23,180.00.\n"
     ]
    }
   ],
   "source": [
    "# Calculate the current value of the bond portion of the portfolio\n",
    "agg_value = agg_closing_price * agg_shares\n",
    "agg_value_formatted = locale.currency(agg_value,grouping=True)\n",
    "\n",
    "# Print the current value of the bond portfolio\n",
    "print(f\"The current USD value of AGG holdings is {agg_value_formatted}.\")\n"
   ]
  },
  {
   "cell_type": "code",
   "execution_count": 20,
   "metadata": {},
   "outputs": [
    {
     "name": "stdout",
     "output_type": "stream",
     "text": [
      "The current USD value of SPY holdings is $47,451.80.\n"
     ]
    }
   ],
   "source": [
    "# Calculate the current value of the stock portion of the portfolio\n",
    "spy_value = spy_closing_price * spy_shares\n",
    "spy_value_formatted = locale.currency(spy_value,grouping=True)\n",
    "\n",
    "# Print the current value of the stock portfolio\n",
    "print(f\"The current USD value of SPY holdings is {spy_value_formatted}.\")\n"
   ]
  },
  {
   "cell_type": "code",
   "execution_count": 21,
   "metadata": {},
   "outputs": [
    {
     "name": "stdout",
     "output_type": "stream",
     "text": [
      "The current USD value of the stocks & bonds portfolio is $70,631.80.\n"
     ]
    }
   ],
   "source": [
    "# Calculate the total value of the stock and bond portion of the portfolio\n",
    "total_stocks_bonds = agg_value + spy_value\n",
    "total_stocks_bonds_formatted = locale.currency(total_stocks_bonds,grouping=True)\n",
    "\n",
    "# Print the current balance of the stock and bond portion of the portfolio\n",
    "print(f\"The current USD value of the stocks & bonds portfolio is {total_stocks_bonds_formatted}.\")\n"
   ]
  },
  {
   "cell_type": "code",
   "execution_count": 22,
   "metadata": {},
   "outputs": [
    {
     "name": "stdout",
     "output_type": "stream",
     "text": [
      "The current USD value of the entire portfolio is $118,820.25.\n"
     ]
    }
   ],
   "source": [
    "# Calculate the total value of the member's entire savings portfolio\n",
    "# Add the value of the cryptocurrency wallet to the value of the total stocks and bonds\n",
    "total_portfolio = total_crypto_wallet + total_stocks_bonds\n",
    "total_portfolio_formatted = locale.currency(total_portfolio,grouping=True)\n",
    "\n",
    "# Print total portfolio balance\n",
    "print(f\"The current USD value of the entire portfolio is {total_portfolio_formatted}.\")\n"
   ]
  },
  {
   "cell_type": "markdown",
   "metadata": {},
   "source": [
    "### Evaluate the Emergency Fund\n",
    "\n",
    "In this section, you’ll use the valuations for the cryptocurrency wallet and for the stock and bond portions of the portfolio to determine if the credit union member has enough savings to build an emergency fund into their financial plan. To do this, complete the following steps:\n",
    "\n",
    "1. Create a Python list named `savings_data` that has two elements. The first element contains the total value of the cryptocurrency wallet. The second element contains the total value of the stock and bond portions of the portfolio.\n",
    "\n",
    "2. Use the `savings_data` list to create a Pandas DataFrame named `savings_df`, and then display this DataFrame. The function to create the DataFrame should take the following three parameters:\n",
    "\n",
    "    - `savings_data`: Use the list that you just created.\n",
    "\n",
    "    - `columns`: Set this parameter equal to a Python list with a single value called `amount`.\n",
    "\n",
    "    - `index`: Set this parameter equal to a Python list with the values of `crypto` and `stock/bond`.\n",
    "\n",
    "3. Use the `savings_df` DataFrame to plot a pie chart that visualizes the composition of the member’s portfolio. The y-axis of the pie chart uses `amount`. Be sure to add a title.\n",
    "\n",
    "4. Using Python, determine if the current portfolio has enough to create an emergency fund as part of the member’s financial plan. Ideally, an emergency fund should equal to three times the member’s monthly income. To do this, implement the following steps:\n",
    "\n",
    "    1. Create a variable named `emergency_fund_value`, and set it equal to three times the value of the member’s `monthly_income` of $12000. (You set this earlier in Part 1).\n",
    "\n",
    "    2. Create a series of three if statements to determine if the member’s total portfolio is large enough to fund the emergency portfolio:\n",
    "\n",
    "        1. If the total portfolio value is greater than the emergency fund value, display a message congratulating the member for having enough money in this fund.\n",
    "\n",
    "        2. Else if the total portfolio value is equal to the emergency fund value, display a message congratulating the member on reaching this important financial goal.\n",
    "\n",
    "        3. Else the total portfolio is less than the emergency fund value, so display a message showing how many dollars away the member is from reaching the goal. (Subtract the total portfolio value from the emergency fund value.)\n"
   ]
  },
  {
   "cell_type": "markdown",
   "metadata": {},
   "source": [
    "#### Step 1: Create a Python list named `savings_data` that has two elements. The first element contains the total value of the cryptocurrency wallet. The second element contains the total value of the stock and bond portions of the portfolio."
   ]
  },
  {
   "cell_type": "code",
   "execution_count": 23,
   "metadata": {},
   "outputs": [
    {
     "data": {
      "text/plain": [
       "[48188.448000000004, 70631.8]"
      ]
     },
     "execution_count": 23,
     "metadata": {},
     "output_type": "execute_result"
    }
   ],
   "source": [
    "# Consolidate financial assets data into a Python list\n",
    "savings_data = [total_crypto_wallet,total_stocks_bonds]\n",
    "\n",
    "# Review the Python list savings_data\n",
    "savings_data\n",
    "    "
   ]
  },
  {
   "cell_type": "markdown",
   "metadata": {},
   "source": [
    "#### Step 2: Use the `savings_data` list to create a Pandas DataFrame named `savings_df`, and then display this DataFrame. The function to create the DataFrame should take the following three parameters:\n",
    "\n",
    "- `savings_data`: Use the list that you just created.\n",
    "\n",
    "- `columns`: Set this parameter equal to a Python list with a single value called `amount`.\n",
    "\n",
    "- `index`: Set this parameter equal to a Python list with the values of `crypto` and `stock/bond`.\n"
   ]
  },
  {
   "cell_type": "code",
   "execution_count": 40,
   "metadata": {},
   "outputs": [
    {
     "data": {
      "text/html": [
       "<div>\n",
       "<style scoped>\n",
       "    .dataframe tbody tr th:only-of-type {\n",
       "        vertical-align: middle;\n",
       "    }\n",
       "\n",
       "    .dataframe tbody tr th {\n",
       "        vertical-align: top;\n",
       "    }\n",
       "\n",
       "    .dataframe thead th {\n",
       "        text-align: right;\n",
       "    }\n",
       "</style>\n",
       "<table border=\"1\" class=\"dataframe\">\n",
       "  <thead>\n",
       "    <tr style=\"text-align: right;\">\n",
       "      <th></th>\n",
       "      <th>amount</th>\n",
       "    </tr>\n",
       "  </thead>\n",
       "  <tbody>\n",
       "    <tr>\n",
       "      <th>crypto</th>\n",
       "      <td>48188.448</td>\n",
       "    </tr>\n",
       "    <tr>\n",
       "      <th>stock/bond</th>\n",
       "      <td>70631.800</td>\n",
       "    </tr>\n",
       "  </tbody>\n",
       "</table>\n",
       "</div>"
      ],
      "text/plain": [
       "               amount\n",
       "crypto      48188.448\n",
       "stock/bond  70631.800"
      ]
     },
     "execution_count": 40,
     "metadata": {},
     "output_type": "execute_result"
    }
   ],
   "source": [
    "# Create a Pandas DataFrame called savings_df \n",
    "\n",
    "def portfolio_analysis(list,columns,index):\n",
    "    savings_df = pd.DataFrame(list,index,columns)\n",
    "    return savings_df\n",
    "\n",
    "portfolio_analysis(savings_data,[\"amount\"],[\"crypto\",\"stock/bond\"])\n",
    "\n",
    "# Display the savings_df DataFrame\n",
    "savings_df\n"
   ]
  },
  {
   "cell_type": "markdown",
   "metadata": {},
   "source": [
    "#### Step 3: Use the `savings_df` DataFrame to plot a pie chart that visualizes the composition of the member’s portfolio. The y-axis of the pie chart uses `amount`. Be sure to add a title."
   ]
  },
  {
   "cell_type": "code",
   "execution_count": 43,
   "metadata": {},
   "outputs": [
    {
     "data": {
      "text/plain": [
       "<AxesSubplot:ylabel='amount'>"
      ]
     },
     "execution_count": 43,
     "metadata": {},
     "output_type": "execute_result"
    },
    {
     "data": {
      "image/png": "[encoded data removed]",
      "text/plain": [
       "<Figure size 720x720 with 1 Axes>"
      ]
     },
     "metadata": {},
     "output_type": "display_data"
    }
   ],
   "source": [
    "# Plot the total value of the member's portfolio (crypto and stock/bond) in a pie chart\n",
    "savings_df.plot.pie(y='amount', figsize=(10, 10))\n"
   ]
  },
  {
   "cell_type": "markdown",
   "metadata": {},
   "source": [
    "#### Step 4: Using Python, determine if the current portfolio has enough to create an emergency fund as part of the member’s financial plan. Ideally, an emergency fund should equal to three times the member’s monthly income. To do this, implement the following steps:\n",
    "\n",
    "Step 1. Create a variable named `emergency_fund_value`, and set it equal to three times the value of the member’s `monthly_income` of 12000. (You set this earlier in Part 1).\n",
    "\n",
    "Step 2. Create a series of three if statements to determine if the member’s total portfolio is large enough to fund the emergency portfolio:\n",
    "\n",
    "* If the total portfolio value is greater than the emergency fund value, display a message congratulating the member for having enough money in this fund.\n",
    "\n",
    "* Else if the total portfolio value is equal to the emergency fund value, display a message congratulating the member on reaching this important financial goal.\n",
    "\n",
    "* Else the total portfolio is less than the emergency fund value, so display a message showing how many dollars away the member is from reaching the goal. (Subtract the total portfolio value from the emergency fund value.)\n"
   ]
  },
  {
   "cell_type": "markdown",
   "metadata": {},
   "source": [
    "##### Step 4-1: Create a variable named `emergency_fund_value`, and set it equal to three times the value of the member’s `monthly_income` of 12000. (You set this earlier in Part 1)."
   ]
  },
  {
   "cell_type": "code",
   "execution_count": 47,
   "metadata": {},
   "outputs": [],
   "source": [
    "# Create a variable named emergency_fund_value\n",
    "emergency_fund_value = monthly_income * 3\n",
    "emergency_fund_value\n",
    "emergency_fund_surplus = total_portfolio - emergency_fund_value\n",
    "emergency_fund_surplus_formatted  = locale.currency(emergency_fund_surplus,grouping=True)\n"
   ]
  },
  {
   "cell_type": "markdown",
   "metadata": {},
   "source": [
    "##### Step 4-2: Create a series of three if statements to determine if the member’s total portfolio is large enough to fund the emergency portfolio:\n",
    "\n",
    "* If the total portfolio value is greater than the emergency fund value, display a message congratulating the member for having enough money in this fund.\n",
    "\n",
    "* Else if the total portfolio value is equal to the emergency fund value, display a message congratulating the member on reaching this important financial goal.\n",
    "\n",
    "* Else the total portfolio is less than the emergency fund value, so display a message showing how many dollars away the member is from reaching the goal. (Subtract the total portfolio value from the emergency fund value.)"
   ]
  },
  {
   "cell_type": "code",
   "execution_count": 51,
   "metadata": {},
   "outputs": [
    {
     "name": "stdout",
     "output_type": "stream",
     "text": [
      "Congratulations, your Emergency Fund is well-funded ! You have a surplus of $82,820.25 !\n"
     ]
    }
   ],
   "source": [
    "# Evaluate the possibility of creating an emergency fund with 3 conditions:\n",
    "if total_portfolio > emergency_fund_value:\n",
    "    print(f\"Congratulations, your Emergency Fund is well-funded ! You have a surplus of {emergency_fund_surplus_formatted} !\")\n",
    "elif total_portfolio == emergency_fund_value:    \n",
    "    print(f\"Congratulations, your Emergency Fund has become fully funded ! Kudos to you for reaching this important financial goal !\")\n",
    "else:    \n",
    "    print(f\"Your Emergency Fund requires an additional {emergency_fund_surplus_formatted}. Good luck, and keep on saving ! \")\n"
   ]
  },
  {
   "cell_type": "markdown",
   "metadata": {},
   "source": [
    "## Part 2: Create a Financial Planner for Retirement"
   ]
  },
  {
   "cell_type": "markdown",
   "metadata": {},
   "source": [
    "### Create the Monte Carlo Simulation\n",
    "\n",
    "In this section, you’ll use the MCForecastTools library to create a Monte Carlo simulation for the member’s savings portfolio. To do this, complete the following steps:\n",
    "\n",
    "1. Make an API call via the Alpaca SDK to get 10 years of historical closing prices for a traditional 60/40 portfolio split: 60% stocks (SPY) and 40% bonds (AGG).\n",
    "\n",
    "2. Run a Monte Carlo simulation of 500 samples and 30 years for the 60/40 portfolio, and then plot the results.The following image shows the overlay line plot resulting from a simulation with these characteristics. However, because a random number generator is used to run each live Monte Carlo simulation, your image will differ slightly from this exact image:\n",
    "\n",
    "![A screenshot depicts the resulting plot.](Images/5-4-monte-carlo-line-plot.png)\n",
    "\n",
    "3. Plot the probability distribution of the Monte Carlo simulation. Plot the probability distribution of the Monte Carlo simulation. The following image shows the histogram plot resulting from a simulation with these characteristics. However, because a random number generator is used to run each live Monte Carlo simulation, your image will differ slightly from this exact image:\n",
    "\n",
    "![A screenshot depicts the histogram plot.](Images/5-4-monte-carlo-histogram.png)\n",
    "\n",
    "4. Generate the summary statistics for the Monte Carlo simulation.\n",
    "\n"
   ]
  },
  {
   "cell_type": "markdown",
   "metadata": {},
   "source": [
    "#### Step 1: Make an API call via the Alpaca SDK to get 10 years of historical closing prices for a traditional 60/40 portfolio split: 60% stocks (SPY) and 40% bonds (AGG)."
   ]
  },
  {
   "cell_type": "code",
   "execution_count": 53,
   "metadata": {},
   "outputs": [],
   "source": [
    "# Set start and end dates of 10 years back from your current date\n",
    "# Alternatively, you can use an end date of 2020-08-07 and work 10 years back from that date \n",
    "end_date = \"2021-07-16\"\n",
    "start_date = \"2011-07-16\"\n"
   ]
  },
  {
   "cell_type": "code",
   "execution_count": 54,
   "metadata": {},
   "outputs": [
    {
     "data": {
      "text/html": [
       "<div>\n",
       "<style scoped>\n",
       "    .dataframe tbody tr th:only-of-type {\n",
       "        vertical-align: middle;\n",
       "    }\n",
       "\n",
       "    .dataframe tbody tr th {\n",
       "        vertical-align: top;\n",
       "    }\n",
       "\n",
       "    .dataframe thead tr th {\n",
       "        text-align: left;\n",
       "    }\n",
       "\n",
       "    .dataframe thead tr:last-of-type th {\n",
       "        text-align: right;\n",
       "    }\n",
       "</style>\n",
       "<table border=\"1\" class=\"dataframe\">\n",
       "  <thead>\n",
       "    <tr>\n",
       "      <th></th>\n",
       "      <th colspan=\"5\" halign=\"left\">AGG</th>\n",
       "      <th colspan=\"5\" halign=\"left\">SPY</th>\n",
       "    </tr>\n",
       "    <tr>\n",
       "      <th></th>\n",
       "      <th>open</th>\n",
       "      <th>high</th>\n",
       "      <th>low</th>\n",
       "      <th>close</th>\n",
       "      <th>volume</th>\n",
       "      <th>open</th>\n",
       "      <th>high</th>\n",
       "      <th>low</th>\n",
       "      <th>close</th>\n",
       "      <th>volume</th>\n",
       "    </tr>\n",
       "    <tr>\n",
       "      <th>time</th>\n",
       "      <th></th>\n",
       "      <th></th>\n",
       "      <th></th>\n",
       "      <th></th>\n",
       "      <th></th>\n",
       "      <th></th>\n",
       "      <th></th>\n",
       "      <th></th>\n",
       "      <th></th>\n",
       "      <th></th>\n",
       "    </tr>\n",
       "  </thead>\n",
       "  <tbody>\n",
       "    <tr>\n",
       "      <th>2021-02-24 00:00:00-05:00</th>\n",
       "      <td>115.06</td>\n",
       "      <td>115.5000</td>\n",
       "      <td>115.0100</td>\n",
       "      <td>115.47</td>\n",
       "      <td>6131453</td>\n",
       "      <td>386.33</td>\n",
       "      <td>392.23</td>\n",
       "      <td>385.2700</td>\n",
       "      <td>391.76</td>\n",
       "      <td>64527459</td>\n",
       "    </tr>\n",
       "    <tr>\n",
       "      <th>2021-02-25 00:00:00-05:00</th>\n",
       "      <td>115.01</td>\n",
       "      <td>115.2900</td>\n",
       "      <td>114.2000</td>\n",
       "      <td>114.41</td>\n",
       "      <td>14520445</td>\n",
       "      <td>390.41</td>\n",
       "      <td>391.88</td>\n",
       "      <td>380.7789</td>\n",
       "      <td>382.39</td>\n",
       "      <td>137059806</td>\n",
       "    </tr>\n",
       "    <tr>\n",
       "      <th>2021-02-26 00:00:00-05:00</th>\n",
       "      <td>114.96</td>\n",
       "      <td>115.3900</td>\n",
       "      <td>114.5915</td>\n",
       "      <td>115.37</td>\n",
       "      <td>9735524</td>\n",
       "      <td>384.35</td>\n",
       "      <td>385.58</td>\n",
       "      <td>378.2300</td>\n",
       "      <td>380.32</td>\n",
       "      <td>134902084</td>\n",
       "    </tr>\n",
       "    <tr>\n",
       "      <th>2021-03-01 00:00:00-05:00</th>\n",
       "      <td>114.97</td>\n",
       "      <td>115.5899</td>\n",
       "      <td>114.8900</td>\n",
       "      <td>115.13</td>\n",
       "      <td>12546198</td>\n",
       "      <td>385.59</td>\n",
       "      <td>390.92</td>\n",
       "      <td>380.5720</td>\n",
       "      <td>389.52</td>\n",
       "      <td>92437154</td>\n",
       "    </tr>\n",
       "    <tr>\n",
       "      <th>2021-03-02 00:00:00-05:00</th>\n",
       "      <td>115.04</td>\n",
       "      <td>115.1200</td>\n",
       "      <td>114.9500</td>\n",
       "      <td>115.12</td>\n",
       "      <td>9860875</td>\n",
       "      <td>389.82</td>\n",
       "      <td>390.07</td>\n",
       "      <td>386.0000</td>\n",
       "      <td>386.55</td>\n",
       "      <td>70479806</td>\n",
       "    </tr>\n",
       "  </tbody>\n",
       "</table>\n",
       "</div>"
      ],
      "text/plain": [
       "                              AGG                                        \\\n",
       "                             open      high       low   close    volume   \n",
       "time                                                                      \n",
       "2021-02-24 00:00:00-05:00  115.06  115.5000  115.0100  115.47   6131453   \n",
       "2021-02-25 00:00:00-05:00  115.01  115.2900  114.2000  114.41  14520445   \n",
       "2021-02-26 00:00:00-05:00  114.96  115.3900  114.5915  115.37   9735524   \n",
       "2021-03-01 00:00:00-05:00  114.97  115.5899  114.8900  115.13  12546198   \n",
       "2021-03-02 00:00:00-05:00  115.04  115.1200  114.9500  115.12   9860875   \n",
       "\n",
       "                              SPY                                       \n",
       "                             open    high       low   close     volume  \n",
       "time                                                                    \n",
       "2021-02-24 00:00:00-05:00  386.33  392.23  385.2700  391.76   64527459  \n",
       "2021-02-25 00:00:00-05:00  390.41  391.88  380.7789  382.39  137059806  \n",
       "2021-02-26 00:00:00-05:00  384.35  385.58  378.2300  380.32  134902084  \n",
       "2021-03-01 00:00:00-05:00  385.59  390.92  380.5720  389.52   92437154  \n",
       "2021-03-02 00:00:00-05:00  389.82  390.07  386.0000  386.55   70479806  "
      ]
     },
     "metadata": {},
     "output_type": "display_data"
    },
    {
     "data": {
      "text/html": [
       "<div>\n",
       "<style scoped>\n",
       "    .dataframe tbody tr th:only-of-type {\n",
       "        vertical-align: middle;\n",
       "    }\n",
       "\n",
       "    .dataframe tbody tr th {\n",
       "        vertical-align: top;\n",
       "    }\n",
       "\n",
       "    .dataframe thead tr th {\n",
       "        text-align: left;\n",
       "    }\n",
       "\n",
       "    .dataframe thead tr:last-of-type th {\n",
       "        text-align: right;\n",
       "    }\n",
       "</style>\n",
       "<table border=\"1\" class=\"dataframe\">\n",
       "  <thead>\n",
       "    <tr>\n",
       "      <th></th>\n",
       "      <th colspan=\"5\" halign=\"left\">AGG</th>\n",
       "      <th colspan=\"5\" halign=\"left\">SPY</th>\n",
       "    </tr>\n",
       "    <tr>\n",
       "      <th></th>\n",
       "      <th>open</th>\n",
       "      <th>high</th>\n",
       "      <th>low</th>\n",
       "      <th>close</th>\n",
       "      <th>volume</th>\n",
       "      <th>open</th>\n",
       "      <th>high</th>\n",
       "      <th>low</th>\n",
       "      <th>close</th>\n",
       "      <th>volume</th>\n",
       "    </tr>\n",
       "    <tr>\n",
       "      <th>time</th>\n",
       "      <th></th>\n",
       "      <th></th>\n",
       "      <th></th>\n",
       "      <th></th>\n",
       "      <th></th>\n",
       "      <th></th>\n",
       "      <th></th>\n",
       "      <th></th>\n",
       "      <th></th>\n",
       "      <th></th>\n",
       "    </tr>\n",
       "  </thead>\n",
       "  <tbody>\n",
       "    <tr>\n",
       "      <th>2021-07-12 00:00:00-04:00</th>\n",
       "      <td>115.80</td>\n",
       "      <td>115.805</td>\n",
       "      <td>115.6000</td>\n",
       "      <td>115.63</td>\n",
       "      <td>3184908</td>\n",
       "      <td>435.42</td>\n",
       "      <td>437.35</td>\n",
       "      <td>434.97</td>\n",
       "      <td>437.08</td>\n",
       "      <td>42031814</td>\n",
       "    </tr>\n",
       "    <tr>\n",
       "      <th>2021-07-13 00:00:00-04:00</th>\n",
       "      <td>115.65</td>\n",
       "      <td>115.760</td>\n",
       "      <td>115.3022</td>\n",
       "      <td>115.39</td>\n",
       "      <td>4698374</td>\n",
       "      <td>436.26</td>\n",
       "      <td>437.84</td>\n",
       "      <td>435.31</td>\n",
       "      <td>435.62</td>\n",
       "      <td>45923305</td>\n",
       "    </tr>\n",
       "    <tr>\n",
       "      <th>2021-07-14 00:00:00-04:00</th>\n",
       "      <td>115.59</td>\n",
       "      <td>115.760</td>\n",
       "      <td>115.5690</td>\n",
       "      <td>115.75</td>\n",
       "      <td>3907266</td>\n",
       "      <td>437.39</td>\n",
       "      <td>437.92</td>\n",
       "      <td>434.91</td>\n",
       "      <td>436.22</td>\n",
       "      <td>54445950</td>\n",
       "    </tr>\n",
       "    <tr>\n",
       "      <th>2021-07-15 00:00:00-04:00</th>\n",
       "      <td>115.94</td>\n",
       "      <td>116.020</td>\n",
       "      <td>115.7222</td>\n",
       "      <td>115.99</td>\n",
       "      <td>3675913</td>\n",
       "      <td>434.81</td>\n",
       "      <td>435.53</td>\n",
       "      <td>432.72</td>\n",
       "      <td>434.73</td>\n",
       "      <td>50376465</td>\n",
       "    </tr>\n",
       "    <tr>\n",
       "      <th>2021-07-16 00:00:00-04:00</th>\n",
       "      <td>115.77</td>\n",
       "      <td>115.960</td>\n",
       "      <td>115.7600</td>\n",
       "      <td>115.90</td>\n",
       "      <td>3679747</td>\n",
       "      <td>436.00</td>\n",
       "      <td>436.06</td>\n",
       "      <td>430.92</td>\n",
       "      <td>431.38</td>\n",
       "      <td>66637403</td>\n",
       "    </tr>\n",
       "  </tbody>\n",
       "</table>\n",
       "</div>"
      ],
      "text/plain": [
       "                              AGG                                         SPY  \\\n",
       "                             open     high       low   close   volume    open   \n",
       "time                                                                            \n",
       "2021-07-12 00:00:00-04:00  115.80  115.805  115.6000  115.63  3184908  435.42   \n",
       "2021-07-13 00:00:00-04:00  115.65  115.760  115.3022  115.39  4698374  436.26   \n",
       "2021-07-14 00:00:00-04:00  115.59  115.760  115.5690  115.75  3907266  437.39   \n",
       "2021-07-15 00:00:00-04:00  115.94  116.020  115.7222  115.99  3675913  434.81   \n",
       "2021-07-16 00:00:00-04:00  115.77  115.960  115.7600  115.90  3679747  436.00   \n",
       "\n",
       "                                                             \n",
       "                             high     low   close    volume  \n",
       "time                                                         \n",
       "2021-07-12 00:00:00-04:00  437.35  434.97  437.08  42031814  \n",
       "2021-07-13 00:00:00-04:00  437.84  435.31  435.62  45923305  \n",
       "2021-07-14 00:00:00-04:00  437.92  434.91  436.22  54445950  \n",
       "2021-07-15 00:00:00-04:00  435.53  432.72  434.73  50376465  \n",
       "2021-07-16 00:00:00-04:00  436.06  430.92  431.38  66637403  "
      ]
     },
     "metadata": {},
     "output_type": "display_data"
    }
   ],
   "source": [
    "# Use the Alpaca get_barset function to make the API call to get the 10 years worth of pricing data\n",
    "# The tickers and timeframe parameters should have been set in Part 1 of this activity \n",
    "# The start and end dates should be updated with the information set above\n",
    "# Remember to add the df property to the end of the call so the response is returned as a DataFrame\n",
    "prices_df = alpaca.get_barset(tickers, timeframe,start=start_date,end=end_date).df\n",
    "\n",
    "# Display both the first and last five rows of the DataFrame\n",
    "display(prices_df.head())\n",
    "display(prices_df.tail())\n"
   ]
  },
  {
   "cell_type": "markdown",
   "metadata": {},
   "source": [
    "#### Step 2: Run a Monte Carlo simulation of 500 samples and 30 years for the 60/40 portfolio, and then plot the results."
   ]
  },
  {
   "cell_type": "code",
   "execution_count": 56,
   "metadata": {},
   "outputs": [
    {
     "data": {
      "text/html": [
       "<div>\n",
       "<style scoped>\n",
       "    .dataframe tbody tr th:only-of-type {\n",
       "        vertical-align: middle;\n",
       "    }\n",
       "\n",
       "    .dataframe tbody tr th {\n",
       "        vertical-align: top;\n",
       "    }\n",
       "\n",
       "    .dataframe thead tr th {\n",
       "        text-align: left;\n",
       "    }\n",
       "\n",
       "    .dataframe thead tr:last-of-type th {\n",
       "        text-align: right;\n",
       "    }\n",
       "</style>\n",
       "<table border=\"1\" class=\"dataframe\">\n",
       "  <thead>\n",
       "    <tr>\n",
       "      <th></th>\n",
       "      <th colspan=\"6\" halign=\"left\">AGG</th>\n",
       "      <th colspan=\"6\" halign=\"left\">SPY</th>\n",
       "    </tr>\n",
       "    <tr>\n",
       "      <th></th>\n",
       "      <th>open</th>\n",
       "      <th>high</th>\n",
       "      <th>low</th>\n",
       "      <th>close</th>\n",
       "      <th>volume</th>\n",
       "      <th>daily_return</th>\n",
       "      <th>open</th>\n",
       "      <th>high</th>\n",
       "      <th>low</th>\n",
       "      <th>close</th>\n",
       "      <th>volume</th>\n",
       "      <th>daily_return</th>\n",
       "    </tr>\n",
       "    <tr>\n",
       "      <th>time</th>\n",
       "      <th></th>\n",
       "      <th></th>\n",
       "      <th></th>\n",
       "      <th></th>\n",
       "      <th></th>\n",
       "      <th></th>\n",
       "      <th></th>\n",
       "      <th></th>\n",
       "      <th></th>\n",
       "      <th></th>\n",
       "      <th></th>\n",
       "      <th></th>\n",
       "    </tr>\n",
       "  </thead>\n",
       "  <tbody>\n",
       "    <tr>\n",
       "      <th>2021-02-24 00:00:00-05:00</th>\n",
       "      <td>115.06</td>\n",
       "      <td>115.5000</td>\n",
       "      <td>115.0100</td>\n",
       "      <td>115.47</td>\n",
       "      <td>6131453</td>\n",
       "      <td>NaN</td>\n",
       "      <td>386.33</td>\n",
       "      <td>392.23</td>\n",
       "      <td>385.2700</td>\n",
       "      <td>391.76</td>\n",
       "      <td>64527459</td>\n",
       "      <td>NaN</td>\n",
       "    </tr>\n",
       "    <tr>\n",
       "      <th>2021-02-25 00:00:00-05:00</th>\n",
       "      <td>115.01</td>\n",
       "      <td>115.2900</td>\n",
       "      <td>114.2000</td>\n",
       "      <td>114.41</td>\n",
       "      <td>14520445</td>\n",
       "      <td>-0.009180</td>\n",
       "      <td>390.41</td>\n",
       "      <td>391.88</td>\n",
       "      <td>380.7789</td>\n",
       "      <td>382.39</td>\n",
       "      <td>137059806</td>\n",
       "      <td>-0.023918</td>\n",
       "    </tr>\n",
       "    <tr>\n",
       "      <th>2021-02-26 00:00:00-05:00</th>\n",
       "      <td>114.96</td>\n",
       "      <td>115.3900</td>\n",
       "      <td>114.5915</td>\n",
       "      <td>115.37</td>\n",
       "      <td>9735524</td>\n",
       "      <td>0.008391</td>\n",
       "      <td>384.35</td>\n",
       "      <td>385.58</td>\n",
       "      <td>378.2300</td>\n",
       "      <td>380.32</td>\n",
       "      <td>134902084</td>\n",
       "      <td>-0.005413</td>\n",
       "    </tr>\n",
       "    <tr>\n",
       "      <th>2021-03-01 00:00:00-05:00</th>\n",
       "      <td>114.97</td>\n",
       "      <td>115.5899</td>\n",
       "      <td>114.8900</td>\n",
       "      <td>115.13</td>\n",
       "      <td>12546198</td>\n",
       "      <td>-0.002080</td>\n",
       "      <td>385.59</td>\n",
       "      <td>390.92</td>\n",
       "      <td>380.5720</td>\n",
       "      <td>389.52</td>\n",
       "      <td>92437154</td>\n",
       "      <td>0.024190</td>\n",
       "    </tr>\n",
       "    <tr>\n",
       "      <th>2021-03-02 00:00:00-05:00</th>\n",
       "      <td>115.04</td>\n",
       "      <td>115.1200</td>\n",
       "      <td>114.9500</td>\n",
       "      <td>115.12</td>\n",
       "      <td>9860875</td>\n",
       "      <td>-0.000087</td>\n",
       "      <td>389.82</td>\n",
       "      <td>390.07</td>\n",
       "      <td>386.0000</td>\n",
       "      <td>386.55</td>\n",
       "      <td>70479806</td>\n",
       "      <td>-0.007625</td>\n",
       "    </tr>\n",
       "  </tbody>\n",
       "</table>\n",
       "</div>"
      ],
      "text/plain": [
       "                              AGG                                        \\\n",
       "                             open      high       low   close    volume   \n",
       "time                                                                      \n",
       "2021-02-24 00:00:00-05:00  115.06  115.5000  115.0100  115.47   6131453   \n",
       "2021-02-25 00:00:00-05:00  115.01  115.2900  114.2000  114.41  14520445   \n",
       "2021-02-26 00:00:00-05:00  114.96  115.3900  114.5915  115.37   9735524   \n",
       "2021-03-01 00:00:00-05:00  114.97  115.5899  114.8900  115.13  12546198   \n",
       "2021-03-02 00:00:00-05:00  115.04  115.1200  114.9500  115.12   9860875   \n",
       "\n",
       "                                           SPY                            \\\n",
       "                          daily_return    open    high       low   close   \n",
       "time                                                                       \n",
       "2021-02-24 00:00:00-05:00          NaN  386.33  392.23  385.2700  391.76   \n",
       "2021-02-25 00:00:00-05:00    -0.009180  390.41  391.88  380.7789  382.39   \n",
       "2021-02-26 00:00:00-05:00     0.008391  384.35  385.58  378.2300  380.32   \n",
       "2021-03-01 00:00:00-05:00    -0.002080  385.59  390.92  380.5720  389.52   \n",
       "2021-03-02 00:00:00-05:00    -0.000087  389.82  390.07  386.0000  386.55   \n",
       "\n",
       "                                                   \n",
       "                              volume daily_return  \n",
       "time                                               \n",
       "2021-02-24 00:00:00-05:00   64527459          NaN  \n",
       "2021-02-25 00:00:00-05:00  137059806    -0.023918  \n",
       "2021-02-26 00:00:00-05:00  134902084    -0.005413  \n",
       "2021-03-01 00:00:00-05:00   92437154     0.024190  \n",
       "2021-03-02 00:00:00-05:00   70479806    -0.007625  "
      ]
     },
     "execution_count": 56,
     "metadata": {},
     "output_type": "execute_result"
    }
   ],
   "source": [
    "# Configure the Monte Carlo simulation to forecast 30 years cumulative returns\n",
    "# The weights should be split 40% to AGG and 60% to SPY.\n",
    "# Run 500 samples.\n",
    "mc_30year = MCSimulation(portfolio_data=prices_df,weights=[.40,.60],num_simulation=500,num_trading_days = 252*30)\n",
    "\n",
    "# Review the simulation input data\n",
    "mc_30year.portfolio_data.head()\n"
   ]
  },
  {
   "cell_type": "code",
   "execution_count": 57,
   "metadata": {},
   "outputs": [
    {
     "name": "stdout",
     "output_type": "stream",
     "text": [
      "Running Monte Carlo simulation number 0.\n",
      "Running Monte Carlo simulation number 10.\n",
      "Running Monte Carlo simulation number 20.\n",
      "Running Monte Carlo simulation number 30.\n",
      "Running Monte Carlo simulation number 40.\n",
      "Running Monte Carlo simulation number 50.\n",
      "Running Monte Carlo simulation number 60.\n",
      "Running Monte Carlo simulation number 70.\n",
      "Running Monte Carlo simulation number 80.\n",
      "Running Monte Carlo simulation number 90.\n",
      "Running Monte Carlo simulation number 100.\n",
      "Running Monte Carlo simulation number 110.\n",
      "Running Monte Carlo simulation number 120.\n",
      "Running Monte Carlo simulation number 130.\n",
      "Running Monte Carlo simulation number 140.\n",
      "Running Monte Carlo simulation number 150.\n",
      "Running Monte Carlo simulation number 160.\n",
      "Running Monte Carlo simulation number 170.\n",
      "Running Monte Carlo simulation number 180.\n",
      "Running Monte Carlo simulation number 190.\n",
      "Running Monte Carlo simulation number 200.\n",
      "Running Monte Carlo simulation number 210.\n",
      "Running Monte Carlo simulation number 220.\n",
      "Running Monte Carlo simulation number 230.\n",
      "Running Monte Carlo simulation number 240.\n",
      "Running Monte Carlo simulation number 250.\n",
      "Running Monte Carlo simulation number 260.\n",
      "Running Monte Carlo simulation number 270.\n",
      "Running Monte Carlo simulation number 280.\n",
      "Running Monte Carlo simulation number 290.\n",
      "Running Monte Carlo simulation number 300.\n",
      "Running Monte Carlo simulation number 310.\n",
      "Running Monte Carlo simulation number 320.\n",
      "Running Monte Carlo simulation number 330.\n",
      "Running Monte Carlo simulation number 340.\n",
      "Running Monte Carlo simulation number 350.\n",
      "Running Monte Carlo simulation number 360.\n",
      "Running Monte Carlo simulation number 370.\n",
      "Running Monte Carlo simulation number 380.\n",
      "Running Monte Carlo simulation number 390.\n",
      "Running Monte Carlo simulation number 400.\n",
      "Running Monte Carlo simulation number 410.\n",
      "Running Monte Carlo simulation number 420.\n",
      "Running Monte Carlo simulation number 430.\n",
      "Running Monte Carlo simulation number 440.\n",
      "Running Monte Carlo simulation number 450.\n",
      "Running Monte Carlo simulation number 460.\n",
      "Running Monte Carlo simulation number 470.\n",
      "Running Monte Carlo simulation number 480.\n",
      "Running Monte Carlo simulation number 490.\n"
     ]
    },
    {
     "data": {
      "text/html": [
       "<div>\n",
       "<style scoped>\n",
       "    .dataframe tbody tr th:only-of-type {\n",
       "        vertical-align: middle;\n",
       "    }\n",
       "\n",
       "    .dataframe tbody tr th {\n",
       "        vertical-align: top;\n",
       "    }\n",
       "\n",
       "    .dataframe thead th {\n",
       "        text-align: right;\n",
       "    }\n",
       "</style>\n",
       "<table border=\"1\" class=\"dataframe\">\n",
       "  <thead>\n",
       "    <tr style=\"text-align: right;\">\n",
       "      <th></th>\n",
       "      <th>0</th>\n",
       "      <th>1</th>\n",
       "      <th>2</th>\n",
       "      <th>3</th>\n",
       "      <th>4</th>\n",
       "      <th>5</th>\n",
       "      <th>6</th>\n",
       "      <th>7</th>\n",
       "      <th>8</th>\n",
       "      <th>9</th>\n",
       "      <th>...</th>\n",
       "      <th>490</th>\n",
       "      <th>491</th>\n",
       "      <th>492</th>\n",
       "      <th>493</th>\n",
       "      <th>494</th>\n",
       "      <th>495</th>\n",
       "      <th>496</th>\n",
       "      <th>497</th>\n",
       "      <th>498</th>\n",
       "      <th>499</th>\n",
       "    </tr>\n",
       "  </thead>\n",
       "  <tbody>\n",
       "    <tr>\n",
       "      <th>0</th>\n",
       "      <td>1.000000</td>\n",
       "      <td>1.000000</td>\n",
       "      <td>1.000000</td>\n",
       "      <td>1.000000</td>\n",
       "      <td>1.000000</td>\n",
       "      <td>1.000000</td>\n",
       "      <td>1.000000</td>\n",
       "      <td>1.000000</td>\n",
       "      <td>1.000000</td>\n",
       "      <td>1.000000</td>\n",
       "      <td>...</td>\n",
       "      <td>1.000000</td>\n",
       "      <td>1.000000</td>\n",
       "      <td>1.000000</td>\n",
       "      <td>1.000000</td>\n",
       "      <td>1.000000</td>\n",
       "      <td>1.000000</td>\n",
       "      <td>1.000000</td>\n",
       "      <td>1.000000</td>\n",
       "      <td>1.000000</td>\n",
       "      <td>1.000000</td>\n",
       "    </tr>\n",
       "    <tr>\n",
       "      <th>1</th>\n",
       "      <td>0.996227</td>\n",
       "      <td>0.997050</td>\n",
       "      <td>0.998676</td>\n",
       "      <td>0.997118</td>\n",
       "      <td>0.999366</td>\n",
       "      <td>1.011672</td>\n",
       "      <td>0.999620</td>\n",
       "      <td>1.003624</td>\n",
       "      <td>0.999889</td>\n",
       "      <td>0.995699</td>\n",
       "      <td>...</td>\n",
       "      <td>0.998876</td>\n",
       "      <td>0.993834</td>\n",
       "      <td>0.995628</td>\n",
       "      <td>1.003912</td>\n",
       "      <td>1.001324</td>\n",
       "      <td>1.000751</td>\n",
       "      <td>1.004644</td>\n",
       "      <td>0.991940</td>\n",
       "      <td>1.004926</td>\n",
       "      <td>0.997780</td>\n",
       "    </tr>\n",
       "    <tr>\n",
       "      <th>2</th>\n",
       "      <td>0.992514</td>\n",
       "      <td>1.002188</td>\n",
       "      <td>0.999457</td>\n",
       "      <td>0.994852</td>\n",
       "      <td>1.005872</td>\n",
       "      <td>1.016761</td>\n",
       "      <td>0.998491</td>\n",
       "      <td>1.001645</td>\n",
       "      <td>1.011383</td>\n",
       "      <td>0.996068</td>\n",
       "      <td>...</td>\n",
       "      <td>1.004602</td>\n",
       "      <td>0.993392</td>\n",
       "      <td>0.990164</td>\n",
       "      <td>1.001188</td>\n",
       "      <td>1.003939</td>\n",
       "      <td>0.991900</td>\n",
       "      <td>1.008232</td>\n",
       "      <td>0.989925</td>\n",
       "      <td>1.005188</td>\n",
       "      <td>0.997452</td>\n",
       "    </tr>\n",
       "    <tr>\n",
       "      <th>3</th>\n",
       "      <td>0.999581</td>\n",
       "      <td>1.001432</td>\n",
       "      <td>1.000310</td>\n",
       "      <td>0.998817</td>\n",
       "      <td>1.008356</td>\n",
       "      <td>1.023879</td>\n",
       "      <td>0.997201</td>\n",
       "      <td>0.997747</td>\n",
       "      <td>1.024274</td>\n",
       "      <td>0.998926</td>\n",
       "      <td>...</td>\n",
       "      <td>1.000046</td>\n",
       "      <td>0.986473</td>\n",
       "      <td>0.993282</td>\n",
       "      <td>1.002497</td>\n",
       "      <td>1.003032</td>\n",
       "      <td>0.992235</td>\n",
       "      <td>1.016217</td>\n",
       "      <td>0.990835</td>\n",
       "      <td>1.009556</td>\n",
       "      <td>0.988561</td>\n",
       "    </tr>\n",
       "    <tr>\n",
       "      <th>4</th>\n",
       "      <td>1.000815</td>\n",
       "      <td>1.003020</td>\n",
       "      <td>1.000012</td>\n",
       "      <td>0.993925</td>\n",
       "      <td>1.006836</td>\n",
       "      <td>1.030400</td>\n",
       "      <td>0.997111</td>\n",
       "      <td>0.990043</td>\n",
       "      <td>1.022734</td>\n",
       "      <td>1.002844</td>\n",
       "      <td>...</td>\n",
       "      <td>0.997087</td>\n",
       "      <td>0.991635</td>\n",
       "      <td>0.996194</td>\n",
       "      <td>1.001073</td>\n",
       "      <td>1.006655</td>\n",
       "      <td>0.983740</td>\n",
       "      <td>1.018393</td>\n",
       "      <td>0.979956</td>\n",
       "      <td>1.010229</td>\n",
       "      <td>0.986245</td>\n",
       "    </tr>\n",
       "    <tr>\n",
       "      <th>...</th>\n",
       "      <td>...</td>\n",
       "      <td>...</td>\n",
       "      <td>...</td>\n",
       "      <td>...</td>\n",
       "      <td>...</td>\n",
       "      <td>...</td>\n",
       "      <td>...</td>\n",
       "      <td>...</td>\n",
       "      <td>...</td>\n",
       "      <td>...</td>\n",
       "      <td>...</td>\n",
       "      <td>...</td>\n",
       "      <td>...</td>\n",
       "      <td>...</td>\n",
       "      <td>...</td>\n",
       "      <td>...</td>\n",
       "      <td>...</td>\n",
       "      <td>...</td>\n",
       "      <td>...</td>\n",
       "      <td>...</td>\n",
       "      <td>...</td>\n",
       "    </tr>\n",
       "    <tr>\n",
       "      <th>7556</th>\n",
       "      <td>71.277514</td>\n",
       "      <td>194.152321</td>\n",
       "      <td>91.120097</td>\n",
       "      <td>106.680669</td>\n",
       "      <td>151.215801</td>\n",
       "      <td>91.183141</td>\n",
       "      <td>198.031111</td>\n",
       "      <td>120.384562</td>\n",
       "      <td>157.903845</td>\n",
       "      <td>88.128766</td>\n",
       "      <td>...</td>\n",
       "      <td>91.402899</td>\n",
       "      <td>49.236288</td>\n",
       "      <td>39.365720</td>\n",
       "      <td>56.662052</td>\n",
       "      <td>263.610571</td>\n",
       "      <td>119.076446</td>\n",
       "      <td>99.725419</td>\n",
       "      <td>167.448654</td>\n",
       "      <td>101.004574</td>\n",
       "      <td>73.969290</td>\n",
       "    </tr>\n",
       "    <tr>\n",
       "      <th>7557</th>\n",
       "      <td>71.155469</td>\n",
       "      <td>193.537419</td>\n",
       "      <td>90.461930</td>\n",
       "      <td>106.553161</td>\n",
       "      <td>150.868016</td>\n",
       "      <td>90.157139</td>\n",
       "      <td>196.726740</td>\n",
       "      <td>119.759419</td>\n",
       "      <td>158.702735</td>\n",
       "      <td>88.322366</td>\n",
       "      <td>...</td>\n",
       "      <td>90.717320</td>\n",
       "      <td>48.990655</td>\n",
       "      <td>39.763410</td>\n",
       "      <td>56.553642</td>\n",
       "      <td>264.827490</td>\n",
       "      <td>119.285546</td>\n",
       "      <td>100.369879</td>\n",
       "      <td>167.871066</td>\n",
       "      <td>101.936359</td>\n",
       "      <td>73.735511</td>\n",
       "    </tr>\n",
       "    <tr>\n",
       "      <th>7558</th>\n",
       "      <td>69.963296</td>\n",
       "      <td>194.171124</td>\n",
       "      <td>90.426122</td>\n",
       "      <td>107.370357</td>\n",
       "      <td>150.371098</td>\n",
       "      <td>90.516248</td>\n",
       "      <td>196.841055</td>\n",
       "      <td>119.908497</td>\n",
       "      <td>158.536920</td>\n",
       "      <td>88.245811</td>\n",
       "      <td>...</td>\n",
       "      <td>90.703199</td>\n",
       "      <td>48.799405</td>\n",
       "      <td>40.072122</td>\n",
       "      <td>57.019219</td>\n",
       "      <td>262.948680</td>\n",
       "      <td>118.712629</td>\n",
       "      <td>101.066480</td>\n",
       "      <td>167.973419</td>\n",
       "      <td>101.633997</td>\n",
       "      <td>73.244966</td>\n",
       "    </tr>\n",
       "    <tr>\n",
       "      <th>7559</th>\n",
       "      <td>69.937290</td>\n",
       "      <td>194.083722</td>\n",
       "      <td>90.917295</td>\n",
       "      <td>107.133271</td>\n",
       "      <td>149.491210</td>\n",
       "      <td>90.875578</td>\n",
       "      <td>197.760510</td>\n",
       "      <td>120.213219</td>\n",
       "      <td>159.742605</td>\n",
       "      <td>88.317576</td>\n",
       "      <td>...</td>\n",
       "      <td>91.336717</td>\n",
       "      <td>48.749313</td>\n",
       "      <td>40.000453</td>\n",
       "      <td>57.029604</td>\n",
       "      <td>263.742738</td>\n",
       "      <td>119.917028</td>\n",
       "      <td>100.806215</td>\n",
       "      <td>168.504938</td>\n",
       "      <td>101.586993</td>\n",
       "      <td>72.822499</td>\n",
       "    </tr>\n",
       "    <tr>\n",
       "      <th>7560</th>\n",
       "      <td>69.595639</td>\n",
       "      <td>193.636061</td>\n",
       "      <td>91.238248</td>\n",
       "      <td>106.646669</td>\n",
       "      <td>150.107591</td>\n",
       "      <td>91.448005</td>\n",
       "      <td>197.731211</td>\n",
       "      <td>119.877478</td>\n",
       "      <td>160.443388</td>\n",
       "      <td>88.109855</td>\n",
       "      <td>...</td>\n",
       "      <td>91.783461</td>\n",
       "      <td>49.050317</td>\n",
       "      <td>40.208756</td>\n",
       "      <td>56.977127</td>\n",
       "      <td>264.692750</td>\n",
       "      <td>119.351585</td>\n",
       "      <td>99.951306</td>\n",
       "      <td>168.499367</td>\n",
       "      <td>102.280320</td>\n",
       "      <td>72.625025</td>\n",
       "    </tr>\n",
       "  </tbody>\n",
       "</table>\n",
       "<p>7561 rows × 500 columns</p>\n",
       "</div>"
      ],
      "text/plain": [
       "            0           1          2           3           4          5    \\\n",
       "0      1.000000    1.000000   1.000000    1.000000    1.000000   1.000000   \n",
       "1      0.996227    0.997050   0.998676    0.997118    0.999366   1.011672   \n",
       "2      0.992514    1.002188   0.999457    0.994852    1.005872   1.016761   \n",
       "3      0.999581    1.001432   1.000310    0.998817    1.008356   1.023879   \n",
       "4      1.000815    1.003020   1.000012    0.993925    1.006836   1.030400   \n",
       "...         ...         ...        ...         ...         ...        ...   \n",
       "7556  71.277514  194.152321  91.120097  106.680669  151.215801  91.183141   \n",
       "7557  71.155469  193.537419  90.461930  106.553161  150.868016  90.157139   \n",
       "7558  69.963296  194.171124  90.426122  107.370357  150.371098  90.516248   \n",
       "7559  69.937290  194.083722  90.917295  107.133271  149.491210  90.875578   \n",
       "7560  69.595639  193.636061  91.238248  106.646669  150.107591  91.448005   \n",
       "\n",
       "             6           7           8          9    ...        490  \\\n",
       "0       1.000000    1.000000    1.000000   1.000000  ...   1.000000   \n",
       "1       0.999620    1.003624    0.999889   0.995699  ...   0.998876   \n",
       "2       0.998491    1.001645    1.011383   0.996068  ...   1.004602   \n",
       "3       0.997201    0.997747    1.024274   0.998926  ...   1.000046   \n",
       "4       0.997111    0.990043    1.022734   1.002844  ...   0.997087   \n",
       "...          ...         ...         ...        ...  ...        ...   \n",
       "7556  198.031111  120.384562  157.903845  88.128766  ...  91.402899   \n",
       "7557  196.726740  119.759419  158.702735  88.322366  ...  90.717320   \n",
       "7558  196.841055  119.908497  158.536920  88.245811  ...  90.703199   \n",
       "7559  197.760510  120.213219  159.742605  88.317576  ...  91.336717   \n",
       "7560  197.731211  119.877478  160.443388  88.109855  ...  91.783461   \n",
       "\n",
       "            491        492        493         494         495         496  \\\n",
       "0      1.000000   1.000000   1.000000    1.000000    1.000000    1.000000   \n",
       "1      0.993834   0.995628   1.003912    1.001324    1.000751    1.004644   \n",
       "2      0.993392   0.990164   1.001188    1.003939    0.991900    1.008232   \n",
       "3      0.986473   0.993282   1.002497    1.003032    0.992235    1.016217   \n",
       "4      0.991635   0.996194   1.001073    1.006655    0.983740    1.018393   \n",
       "...         ...        ...        ...         ...         ...         ...   \n",
       "7556  49.236288  39.365720  56.662052  263.610571  119.076446   99.725419   \n",
       "7557  48.990655  39.763410  56.553642  264.827490  119.285546  100.369879   \n",
       "7558  48.799405  40.072122  57.019219  262.948680  118.712629  101.066480   \n",
       "7559  48.749313  40.000453  57.029604  263.742738  119.917028  100.806215   \n",
       "7560  49.050317  40.208756  56.977127  264.692750  119.351585   99.951306   \n",
       "\n",
       "             497         498        499  \n",
       "0       1.000000    1.000000   1.000000  \n",
       "1       0.991940    1.004926   0.997780  \n",
       "2       0.989925    1.005188   0.997452  \n",
       "3       0.990835    1.009556   0.988561  \n",
       "4       0.979956    1.010229   0.986245  \n",
       "...          ...         ...        ...  \n",
       "7556  167.448654  101.004574  73.969290  \n",
       "7557  167.871066  101.936359  73.735511  \n",
       "7558  167.973419  101.633997  73.244966  \n",
       "7559  168.504938  101.586993  72.822499  \n",
       "7560  168.499367  102.280320  72.625025  \n",
       "\n",
       "[7561 rows x 500 columns]"
      ]
     },
     "execution_count": 57,
     "metadata": {},
     "output_type": "execute_result"
    }
   ],
   "source": [
    "# Run the Monte Carlo simulation to forecast 30 years cumulative returns\n",
    "mc_30year.calc_cumulative_return()\n"
   ]
  },
  {
   "cell_type": "code",
   "execution_count": 60,
   "metadata": {},
   "outputs": [
    {
     "data": {
      "image/png": "[encoded data removed]",
      "text/plain": [
       "<Figure size 432x288 with 1 Axes>"
      ]
     },
     "metadata": {
      "needs_background": "light"
     },
     "output_type": "display_data"
    }
   ],
   "source": [
    "# Visualize the 30-year Monte Carlo simulation by creating an\n",
    "# overlay line plot\n",
    "mc_sim_line_plot = mc_30year.plot_simulation()\n"
   ]
  },
  {
   "cell_type": "markdown",
   "metadata": {},
   "source": [
    "#### Step 3: Plot the probability distribution of the Monte Carlo simulation."
   ]
  },
  {
   "cell_type": "code",
   "execution_count": 61,
   "metadata": {},
   "outputs": [
    {
     "data": {
      "image/png": "[encoded data removed]",
      "text/plain": [
       "<Figure size 432x288 with 1 Axes>"
      ]
     },
     "metadata": {
      "needs_background": "light"
     },
     "output_type": "display_data"
    }
   ],
   "source": [
    "# Visualize the probability distribution of the 30-year Monte Carlo simulation \n",
    "# by plotting a histogram\n",
    "mc_sim_distr_plot = mc_30year.plot_distribution()\n"
   ]
  },
  {
   "cell_type": "markdown",
   "metadata": {},
   "source": [
    "#### Step 4: Generate the summary statistics for the Monte Carlo simulation."
   ]
  },
  {
   "cell_type": "code",
   "execution_count": 63,
   "metadata": {},
   "outputs": [
    {
     "data": {
      "text/plain": [
       "count           500.000000\n",
       "mean            107.526600\n",
       "std              46.867907\n",
       "min              30.492013\n",
       "25%              73.049897\n",
       "50%             100.432713\n",
       "75%             132.814202\n",
       "max             356.795554\n",
       "95% CI Lower     41.074515\n",
       "95% CI Upper    218.452533\n",
       "Name: 7560, dtype: float64"
      ]
     },
     "execution_count": 63,
     "metadata": {},
     "output_type": "execute_result"
    }
   ],
   "source": [
    "# Generate summary statistics from the 30-year Monte Carlo simulation results\n",
    "# Save the results as a variable\n",
    "mc_summary_stats = mc_30year.summarize_cumulative_return()\n",
    "\n",
    "# Review the 30-year Monte Carlo summary statistics\n",
    "mc_summary_stats"
   ]
  },
  {
   "cell_type": "markdown",
   "metadata": {},
   "source": [
    "### Analyze the Retirement Portfolio Forecasts\n",
    "\n",
    "Using the current value of only the stock and bond portion of the member's portfolio and the summary statistics that you generated from the Monte Carlo simulation, answer the following question in your Jupyter notebook:\n",
    "\n",
    "-  What are the lower and upper bounds for the expected value of the portfolio with a 95% confidence interval?\n"
   ]
  },
  {
   "cell_type": "code",
   "execution_count": 65,
   "metadata": {},
   "outputs": [
    {
     "name": "stdout",
     "output_type": "stream",
     "text": [
      "The current balance of the stocks and bonds portion of the portfolio = $70,631.80.\n"
     ]
    }
   ],
   "source": [
    "# Print the current balance of the stock and bond portion of the members portfolio\n",
    "print(f\"The current balance of the stocks and bonds portion of the portfolio = {total_stocks_bonds_formatted}.\")\n"
   ]
  },
  {
   "cell_type": "code",
   "execution_count": 69,
   "metadata": {},
   "outputs": [
    {
     "name": "stdout",
     "output_type": "stream",
     "text": [
      "There is a 95% chance that an initial investment of $70,631.80 in the portfolio with a 60% weight in SPY and a 40% weight in AGG over the next 30 years will end within in the range of $2,901,166.92 and $15,429,695.60.\n"
     ]
    }
   ],
   "source": [
    "# Use the lower and upper `95%` confidence intervals to calculate the range of the possible outcomes for the current stock/bond portfolio\n",
    "ci_lower_thirty_cumulative_return = mc_summary_stats[8] * total_stocks_bonds\n",
    "ci_upper_thirty_cumulative_return = mc_summary_stats[9] * total_stocks_bonds\n",
    "\n",
    "ci_lower_thirty_cumulative_return_formatted = locale.currency(ci_lower_thirty_cumulative_return,grouping=True)\n",
    "ci_upper_thirty_cumulative_return_formatted = locale.currency(ci_upper_thirty_cumulative_return,grouping=True)\n",
    "\n",
    "# Print the result of your calculations\n",
    "print(f\"There is a 95% chance that an initial investment of {total_stocks_bonds_formatted} in the portfolio\"\n",
    "      f\" with a 60% weight in SPY and a 40% weight in AGG over the next 30 years will end within in the range of\"\n",
    "      f\" {ci_lower_thirty_cumulative_return_formatted} and {ci_upper_thirty_cumulative_return_formatted}.\")\n",
    "\n"
   ]
  },
  {
   "cell_type": "markdown",
   "metadata": {},
   "source": [
    "### Forecast Cumulative Returns in 10 Years\n",
    "\n",
    "The CTO of the credit union is impressed with your work on these planning tools but wonders if 30 years is a long time to wait until retirement. So, your next task is to adjust the retirement portfolio and run a new Monte Carlo simulation to find out if the changes will allow members to retire earlier.\n",
    "\n",
    "For this new Monte Carlo simulation, do the following: \n",
    "\n",
    "- Forecast the cumulative returns for 10 years from now. Because of the shortened investment horizon (30 years to 10 years), the portfolio needs to invest more heavily in the riskier asset&mdash;that is, stock&mdash;to help accumulate wealth for retirement. \n",
    "\n",
    "- Adjust the weights of the retirement portfolio so that the composition for the Monte Carlo simulation consists of 20% bonds and 80% stocks. \n",
    "\n",
    "- Run the simulation over 500 samples, and use the same data that the API call to Alpaca generated.\n",
    "\n",
    "- Based on the new Monte Carlo simulation, answer the following questions in your Jupyter notebook:\n",
    "\n",
    "    - Using the current value of only the stock and bond portion of the member's portfolio and the summary statistics that you generated from the new Monte Carlo simulation, what are the lower and upper bounds for the expected value of the portfolio (with the new weights) with a 95% confidence interval?\n",
    "\n",
    "    - Will weighting the portfolio more heavily toward stocks allow the credit union members to retire after only 10 years?\n"
   ]
  },
  {
   "cell_type": "code",
   "execution_count": 70,
   "metadata": {},
   "outputs": [
    {
     "data": {
      "text/html": [
       "<div>\n",
       "<style scoped>\n",
       "    .dataframe tbody tr th:only-of-type {\n",
       "        vertical-align: middle;\n",
       "    }\n",
       "\n",
       "    .dataframe tbody tr th {\n",
       "        vertical-align: top;\n",
       "    }\n",
       "\n",
       "    .dataframe thead tr th {\n",
       "        text-align: left;\n",
       "    }\n",
       "\n",
       "    .dataframe thead tr:last-of-type th {\n",
       "        text-align: right;\n",
       "    }\n",
       "</style>\n",
       "<table border=\"1\" class=\"dataframe\">\n",
       "  <thead>\n",
       "    <tr>\n",
       "      <th></th>\n",
       "      <th colspan=\"6\" halign=\"left\">AGG</th>\n",
       "      <th colspan=\"6\" halign=\"left\">SPY</th>\n",
       "    </tr>\n",
       "    <tr>\n",
       "      <th></th>\n",
       "      <th>open</th>\n",
       "      <th>high</th>\n",
       "      <th>low</th>\n",
       "      <th>close</th>\n",
       "      <th>volume</th>\n",
       "      <th>daily_return</th>\n",
       "      <th>open</th>\n",
       "      <th>high</th>\n",
       "      <th>low</th>\n",
       "      <th>close</th>\n",
       "      <th>volume</th>\n",
       "      <th>daily_return</th>\n",
       "    </tr>\n",
       "    <tr>\n",
       "      <th>time</th>\n",
       "      <th></th>\n",
       "      <th></th>\n",
       "      <th></th>\n",
       "      <th></th>\n",
       "      <th></th>\n",
       "      <th></th>\n",
       "      <th></th>\n",
       "      <th></th>\n",
       "      <th></th>\n",
       "      <th></th>\n",
       "      <th></th>\n",
       "      <th></th>\n",
       "    </tr>\n",
       "  </thead>\n",
       "  <tbody>\n",
       "    <tr>\n",
       "      <th>2021-02-24 00:00:00-05:00</th>\n",
       "      <td>115.06</td>\n",
       "      <td>115.5000</td>\n",
       "      <td>115.0100</td>\n",
       "      <td>115.47</td>\n",
       "      <td>6131453</td>\n",
       "      <td>NaN</td>\n",
       "      <td>386.33</td>\n",
       "      <td>392.23</td>\n",
       "      <td>385.2700</td>\n",
       "      <td>391.76</td>\n",
       "      <td>64527459</td>\n",
       "      <td>NaN</td>\n",
       "    </tr>\n",
       "    <tr>\n",
       "      <th>2021-02-25 00:00:00-05:00</th>\n",
       "      <td>115.01</td>\n",
       "      <td>115.2900</td>\n",
       "      <td>114.2000</td>\n",
       "      <td>114.41</td>\n",
       "      <td>14520445</td>\n",
       "      <td>-0.009180</td>\n",
       "      <td>390.41</td>\n",
       "      <td>391.88</td>\n",
       "      <td>380.7789</td>\n",
       "      <td>382.39</td>\n",
       "      <td>137059806</td>\n",
       "      <td>-0.023918</td>\n",
       "    </tr>\n",
       "    <tr>\n",
       "      <th>2021-02-26 00:00:00-05:00</th>\n",
       "      <td>114.96</td>\n",
       "      <td>115.3900</td>\n",
       "      <td>114.5915</td>\n",
       "      <td>115.37</td>\n",
       "      <td>9735524</td>\n",
       "      <td>0.008391</td>\n",
       "      <td>384.35</td>\n",
       "      <td>385.58</td>\n",
       "      <td>378.2300</td>\n",
       "      <td>380.32</td>\n",
       "      <td>134902084</td>\n",
       "      <td>-0.005413</td>\n",
       "    </tr>\n",
       "    <tr>\n",
       "      <th>2021-03-01 00:00:00-05:00</th>\n",
       "      <td>114.97</td>\n",
       "      <td>115.5899</td>\n",
       "      <td>114.8900</td>\n",
       "      <td>115.13</td>\n",
       "      <td>12546198</td>\n",
       "      <td>-0.002080</td>\n",
       "      <td>385.59</td>\n",
       "      <td>390.92</td>\n",
       "      <td>380.5720</td>\n",
       "      <td>389.52</td>\n",
       "      <td>92437154</td>\n",
       "      <td>0.024190</td>\n",
       "    </tr>\n",
       "    <tr>\n",
       "      <th>2021-03-02 00:00:00-05:00</th>\n",
       "      <td>115.04</td>\n",
       "      <td>115.1200</td>\n",
       "      <td>114.9500</td>\n",
       "      <td>115.12</td>\n",
       "      <td>9860875</td>\n",
       "      <td>-0.000087</td>\n",
       "      <td>389.82</td>\n",
       "      <td>390.07</td>\n",
       "      <td>386.0000</td>\n",
       "      <td>386.55</td>\n",
       "      <td>70479806</td>\n",
       "      <td>-0.007625</td>\n",
       "    </tr>\n",
       "  </tbody>\n",
       "</table>\n",
       "</div>"
      ],
      "text/plain": [
       "                              AGG                                        \\\n",
       "                             open      high       low   close    volume   \n",
       "time                                                                      \n",
       "2021-02-24 00:00:00-05:00  115.06  115.5000  115.0100  115.47   6131453   \n",
       "2021-02-25 00:00:00-05:00  115.01  115.2900  114.2000  114.41  14520445   \n",
       "2021-02-26 00:00:00-05:00  114.96  115.3900  114.5915  115.37   9735524   \n",
       "2021-03-01 00:00:00-05:00  114.97  115.5899  114.8900  115.13  12546198   \n",
       "2021-03-02 00:00:00-05:00  115.04  115.1200  114.9500  115.12   9860875   \n",
       "\n",
       "                                           SPY                            \\\n",
       "                          daily_return    open    high       low   close   \n",
       "time                                                                       \n",
       "2021-02-24 00:00:00-05:00          NaN  386.33  392.23  385.2700  391.76   \n",
       "2021-02-25 00:00:00-05:00    -0.009180  390.41  391.88  380.7789  382.39   \n",
       "2021-02-26 00:00:00-05:00     0.008391  384.35  385.58  378.2300  380.32   \n",
       "2021-03-01 00:00:00-05:00    -0.002080  385.59  390.92  380.5720  389.52   \n",
       "2021-03-02 00:00:00-05:00    -0.000087  389.82  390.07  386.0000  386.55   \n",
       "\n",
       "                                                   \n",
       "                              volume daily_return  \n",
       "time                                               \n",
       "2021-02-24 00:00:00-05:00   64527459          NaN  \n",
       "2021-02-25 00:00:00-05:00  137059806    -0.023918  \n",
       "2021-02-26 00:00:00-05:00  134902084    -0.005413  \n",
       "2021-03-01 00:00:00-05:00   92437154     0.024190  \n",
       "2021-03-02 00:00:00-05:00   70479806    -0.007625  "
      ]
     },
     "execution_count": 70,
     "metadata": {},
     "output_type": "execute_result"
    }
   ],
   "source": [
    "# Configure a Monte Carlo simulation to forecast 10 years cumulative returns\n",
    "# The weights should be split 20% to AGG and 80% to SPY.\n",
    "# Run 500 samples.\n",
    "mc_10year = MCSimulation(portfolio_data=prices_df,weights=[.20,.80],num_simulation=500,num_trading_days = 252*10)\n",
    "\n",
    "# Review the simulation input data\n",
    "mc_10year.portfolio_data.head()\n"
   ]
  },
  {
   "cell_type": "code",
   "execution_count": 71,
   "metadata": {},
   "outputs": [
    {
     "name": "stdout",
     "output_type": "stream",
     "text": [
      "Running Monte Carlo simulation number 0.\n",
      "Running Monte Carlo simulation number 10.\n",
      "Running Monte Carlo simulation number 20.\n",
      "Running Monte Carlo simulation number 30.\n",
      "Running Monte Carlo simulation number 40.\n",
      "Running Monte Carlo simulation number 50.\n",
      "Running Monte Carlo simulation number 60.\n",
      "Running Monte Carlo simulation number 70.\n",
      "Running Monte Carlo simulation number 80.\n",
      "Running Monte Carlo simulation number 90.\n",
      "Running Monte Carlo simulation number 100.\n",
      "Running Monte Carlo simulation number 110.\n",
      "Running Monte Carlo simulation number 120.\n",
      "Running Monte Carlo simulation number 130.\n",
      "Running Monte Carlo simulation number 140.\n",
      "Running Monte Carlo simulation number 150.\n",
      "Running Monte Carlo simulation number 160.\n",
      "Running Monte Carlo simulation number 170.\n",
      "Running Monte Carlo simulation number 180.\n",
      "Running Monte Carlo simulation number 190.\n",
      "Running Monte Carlo simulation number 200.\n",
      "Running Monte Carlo simulation number 210.\n",
      "Running Monte Carlo simulation number 220.\n",
      "Running Monte Carlo simulation number 230.\n",
      "Running Monte Carlo simulation number 240.\n",
      "Running Monte Carlo simulation number 250.\n",
      "Running Monte Carlo simulation number 260.\n",
      "Running Monte Carlo simulation number 270.\n",
      "Running Monte Carlo simulation number 280.\n",
      "Running Monte Carlo simulation number 290.\n",
      "Running Monte Carlo simulation number 300.\n",
      "Running Monte Carlo simulation number 310.\n",
      "Running Monte Carlo simulation number 320.\n",
      "Running Monte Carlo simulation number 330.\n",
      "Running Monte Carlo simulation number 340.\n",
      "Running Monte Carlo simulation number 350.\n",
      "Running Monte Carlo simulation number 360.\n",
      "Running Monte Carlo simulation number 370.\n",
      "Running Monte Carlo simulation number 380.\n",
      "Running Monte Carlo simulation number 390.\n",
      "Running Monte Carlo simulation number 400.\n",
      "Running Monte Carlo simulation number 410.\n",
      "Running Monte Carlo simulation number 420.\n",
      "Running Monte Carlo simulation number 430.\n",
      "Running Monte Carlo simulation number 440.\n",
      "Running Monte Carlo simulation number 450.\n",
      "Running Monte Carlo simulation number 460.\n",
      "Running Monte Carlo simulation number 470.\n",
      "Running Monte Carlo simulation number 480.\n",
      "Running Monte Carlo simulation number 490.\n"
     ]
    },
    {
     "data": {
      "text/html": [
       "<div>\n",
       "<style scoped>\n",
       "    .dataframe tbody tr th:only-of-type {\n",
       "        vertical-align: middle;\n",
       "    }\n",
       "\n",
       "    .dataframe tbody tr th {\n",
       "        vertical-align: top;\n",
       "    }\n",
       "\n",
       "    .dataframe thead th {\n",
       "        text-align: right;\n",
       "    }\n",
       "</style>\n",
       "<table border=\"1\" class=\"dataframe\">\n",
       "  <thead>\n",
       "    <tr style=\"text-align: right;\">\n",
       "      <th></th>\n",
       "      <th>0</th>\n",
       "      <th>1</th>\n",
       "      <th>2</th>\n",
       "      <th>3</th>\n",
       "      <th>4</th>\n",
       "      <th>5</th>\n",
       "      <th>6</th>\n",
       "      <th>7</th>\n",
       "      <th>8</th>\n",
       "      <th>9</th>\n",
       "      <th>...</th>\n",
       "      <th>490</th>\n",
       "      <th>491</th>\n",
       "      <th>492</th>\n",
       "      <th>493</th>\n",
       "      <th>494</th>\n",
       "      <th>495</th>\n",
       "      <th>496</th>\n",
       "      <th>497</th>\n",
       "      <th>498</th>\n",
       "      <th>499</th>\n",
       "    </tr>\n",
       "  </thead>\n",
       "  <tbody>\n",
       "    <tr>\n",
       "      <th>0</th>\n",
       "      <td>1.000000</td>\n",
       "      <td>1.000000</td>\n",
       "      <td>1.000000</td>\n",
       "      <td>1.000000</td>\n",
       "      <td>1.000000</td>\n",
       "      <td>1.000000</td>\n",
       "      <td>1.000000</td>\n",
       "      <td>1.000000</td>\n",
       "      <td>1.000000</td>\n",
       "      <td>1.000000</td>\n",
       "      <td>...</td>\n",
       "      <td>1.000000</td>\n",
       "      <td>1.000000</td>\n",
       "      <td>1.000000</td>\n",
       "      <td>1.000000</td>\n",
       "      <td>1.000000</td>\n",
       "      <td>1.000000</td>\n",
       "      <td>1.000000</td>\n",
       "      <td>1.000000</td>\n",
       "      <td>1.000000</td>\n",
       "      <td>1.000000</td>\n",
       "    </tr>\n",
       "    <tr>\n",
       "      <th>1</th>\n",
       "      <td>0.999985</td>\n",
       "      <td>0.989623</td>\n",
       "      <td>0.998247</td>\n",
       "      <td>1.001563</td>\n",
       "      <td>0.995068</td>\n",
       "      <td>1.006771</td>\n",
       "      <td>1.009020</td>\n",
       "      <td>0.994575</td>\n",
       "      <td>0.997229</td>\n",
       "      <td>1.004202</td>\n",
       "      <td>...</td>\n",
       "      <td>1.000739</td>\n",
       "      <td>1.002145</td>\n",
       "      <td>0.988062</td>\n",
       "      <td>1.001218</td>\n",
       "      <td>0.999672</td>\n",
       "      <td>0.999621</td>\n",
       "      <td>1.002086</td>\n",
       "      <td>1.001080</td>\n",
       "      <td>1.001527</td>\n",
       "      <td>0.992470</td>\n",
       "    </tr>\n",
       "    <tr>\n",
       "      <th>2</th>\n",
       "      <td>1.015194</td>\n",
       "      <td>0.981279</td>\n",
       "      <td>1.000743</td>\n",
       "      <td>1.001616</td>\n",
       "      <td>0.979112</td>\n",
       "      <td>1.018603</td>\n",
       "      <td>1.006152</td>\n",
       "      <td>0.993254</td>\n",
       "      <td>0.999464</td>\n",
       "      <td>1.006350</td>\n",
       "      <td>...</td>\n",
       "      <td>0.994637</td>\n",
       "      <td>0.999821</td>\n",
       "      <td>0.990173</td>\n",
       "      <td>1.007338</td>\n",
       "      <td>1.004622</td>\n",
       "      <td>0.995947</td>\n",
       "      <td>1.009686</td>\n",
       "      <td>0.995885</td>\n",
       "      <td>0.994127</td>\n",
       "      <td>0.998134</td>\n",
       "    </tr>\n",
       "    <tr>\n",
       "      <th>3</th>\n",
       "      <td>1.026089</td>\n",
       "      <td>0.975502</td>\n",
       "      <td>0.995842</td>\n",
       "      <td>1.003955</td>\n",
       "      <td>0.978173</td>\n",
       "      <td>1.016956</td>\n",
       "      <td>1.013951</td>\n",
       "      <td>0.994066</td>\n",
       "      <td>1.003665</td>\n",
       "      <td>0.999225</td>\n",
       "      <td>...</td>\n",
       "      <td>0.992182</td>\n",
       "      <td>1.004858</td>\n",
       "      <td>0.982000</td>\n",
       "      <td>0.999098</td>\n",
       "      <td>1.007422</td>\n",
       "      <td>0.979072</td>\n",
       "      <td>0.995539</td>\n",
       "      <td>0.994162</td>\n",
       "      <td>0.992016</td>\n",
       "      <td>0.996807</td>\n",
       "    </tr>\n",
       "    <tr>\n",
       "      <th>4</th>\n",
       "      <td>1.029937</td>\n",
       "      <td>0.972873</td>\n",
       "      <td>0.992492</td>\n",
       "      <td>1.003660</td>\n",
       "      <td>0.979902</td>\n",
       "      <td>1.012376</td>\n",
       "      <td>1.009095</td>\n",
       "      <td>1.002733</td>\n",
       "      <td>0.986555</td>\n",
       "      <td>0.993800</td>\n",
       "      <td>...</td>\n",
       "      <td>1.002861</td>\n",
       "      <td>1.003212</td>\n",
       "      <td>0.985276</td>\n",
       "      <td>1.004015</td>\n",
       "      <td>1.008864</td>\n",
       "      <td>0.976132</td>\n",
       "      <td>0.992866</td>\n",
       "      <td>1.006412</td>\n",
       "      <td>0.991252</td>\n",
       "      <td>0.992481</td>\n",
       "    </tr>\n",
       "    <tr>\n",
       "      <th>...</th>\n",
       "      <td>...</td>\n",
       "      <td>...</td>\n",
       "      <td>...</td>\n",
       "      <td>...</td>\n",
       "      <td>...</td>\n",
       "      <td>...</td>\n",
       "      <td>...</td>\n",
       "      <td>...</td>\n",
       "      <td>...</td>\n",
       "      <td>...</td>\n",
       "      <td>...</td>\n",
       "      <td>...</td>\n",
       "      <td>...</td>\n",
       "      <td>...</td>\n",
       "      <td>...</td>\n",
       "      <td>...</td>\n",
       "      <td>...</td>\n",
       "      <td>...</td>\n",
       "      <td>...</td>\n",
       "      <td>...</td>\n",
       "      <td>...</td>\n",
       "    </tr>\n",
       "    <tr>\n",
       "      <th>2516</th>\n",
       "      <td>5.505735</td>\n",
       "      <td>10.923259</td>\n",
       "      <td>8.046098</td>\n",
       "      <td>7.489661</td>\n",
       "      <td>6.989775</td>\n",
       "      <td>5.811244</td>\n",
       "      <td>7.645670</td>\n",
       "      <td>4.332549</td>\n",
       "      <td>6.712313</td>\n",
       "      <td>6.050747</td>\n",
       "      <td>...</td>\n",
       "      <td>12.106254</td>\n",
       "      <td>5.459804</td>\n",
       "      <td>5.722347</td>\n",
       "      <td>12.235720</td>\n",
       "      <td>9.163494</td>\n",
       "      <td>11.877967</td>\n",
       "      <td>6.734668</td>\n",
       "      <td>12.864630</td>\n",
       "      <td>7.079854</td>\n",
       "      <td>5.396783</td>\n",
       "    </tr>\n",
       "    <tr>\n",
       "      <th>2517</th>\n",
       "      <td>5.534217</td>\n",
       "      <td>10.921894</td>\n",
       "      <td>8.013095</td>\n",
       "      <td>7.517620</td>\n",
       "      <td>7.025690</td>\n",
       "      <td>5.807773</td>\n",
       "      <td>7.626276</td>\n",
       "      <td>4.320371</td>\n",
       "      <td>6.679819</td>\n",
       "      <td>6.022019</td>\n",
       "      <td>...</td>\n",
       "      <td>12.055023</td>\n",
       "      <td>5.498683</td>\n",
       "      <td>5.716784</td>\n",
       "      <td>12.309576</td>\n",
       "      <td>9.181383</td>\n",
       "      <td>11.925725</td>\n",
       "      <td>6.688478</td>\n",
       "      <td>12.887334</td>\n",
       "      <td>6.992686</td>\n",
       "      <td>5.400168</td>\n",
       "    </tr>\n",
       "    <tr>\n",
       "      <th>2518</th>\n",
       "      <td>5.519145</td>\n",
       "      <td>10.988924</td>\n",
       "      <td>8.099936</td>\n",
       "      <td>7.471473</td>\n",
       "      <td>6.988113</td>\n",
       "      <td>5.794548</td>\n",
       "      <td>7.634857</td>\n",
       "      <td>4.376193</td>\n",
       "      <td>6.721727</td>\n",
       "      <td>6.068228</td>\n",
       "      <td>...</td>\n",
       "      <td>12.130358</td>\n",
       "      <td>5.595270</td>\n",
       "      <td>5.703079</td>\n",
       "      <td>12.366907</td>\n",
       "      <td>9.170259</td>\n",
       "      <td>12.097731</td>\n",
       "      <td>6.702907</td>\n",
       "      <td>12.784869</td>\n",
       "      <td>7.022103</td>\n",
       "      <td>5.396744</td>\n",
       "    </tr>\n",
       "    <tr>\n",
       "      <th>2519</th>\n",
       "      <td>5.519255</td>\n",
       "      <td>11.062813</td>\n",
       "      <td>8.116303</td>\n",
       "      <td>7.457509</td>\n",
       "      <td>6.972657</td>\n",
       "      <td>5.841219</td>\n",
       "      <td>7.539208</td>\n",
       "      <td>4.336867</td>\n",
       "      <td>6.663105</td>\n",
       "      <td>5.994112</td>\n",
       "      <td>...</td>\n",
       "      <td>12.193475</td>\n",
       "      <td>5.590050</td>\n",
       "      <td>5.709196</td>\n",
       "      <td>12.493068</td>\n",
       "      <td>9.117511</td>\n",
       "      <td>12.097353</td>\n",
       "      <td>6.713902</td>\n",
       "      <td>12.765668</td>\n",
       "      <td>7.020676</td>\n",
       "      <td>5.416036</td>\n",
       "    </tr>\n",
       "    <tr>\n",
       "      <th>2520</th>\n",
       "      <td>5.523825</td>\n",
       "      <td>10.996097</td>\n",
       "      <td>8.150012</td>\n",
       "      <td>7.433831</td>\n",
       "      <td>6.944732</td>\n",
       "      <td>5.847965</td>\n",
       "      <td>7.644886</td>\n",
       "      <td>4.380248</td>\n",
       "      <td>6.749557</td>\n",
       "      <td>6.007547</td>\n",
       "      <td>...</td>\n",
       "      <td>12.251840</td>\n",
       "      <td>5.595021</td>\n",
       "      <td>5.741017</td>\n",
       "      <td>12.464500</td>\n",
       "      <td>9.062204</td>\n",
       "      <td>12.072052</td>\n",
       "      <td>6.760631</td>\n",
       "      <td>12.780317</td>\n",
       "      <td>7.013759</td>\n",
       "      <td>5.415442</td>\n",
       "    </tr>\n",
       "  </tbody>\n",
       "</table>\n",
       "<p>2521 rows × 500 columns</p>\n",
       "</div>"
      ],
      "text/plain": [
       "           0          1         2         3         4         5         6    \\\n",
       "0     1.000000   1.000000  1.000000  1.000000  1.000000  1.000000  1.000000   \n",
       "1     0.999985   0.989623  0.998247  1.001563  0.995068  1.006771  1.009020   \n",
       "2     1.015194   0.981279  1.000743  1.001616  0.979112  1.018603  1.006152   \n",
       "3     1.026089   0.975502  0.995842  1.003955  0.978173  1.016956  1.013951   \n",
       "4     1.029937   0.972873  0.992492  1.003660  0.979902  1.012376  1.009095   \n",
       "...        ...        ...       ...       ...       ...       ...       ...   \n",
       "2516  5.505735  10.923259  8.046098  7.489661  6.989775  5.811244  7.645670   \n",
       "2517  5.534217  10.921894  8.013095  7.517620  7.025690  5.807773  7.626276   \n",
       "2518  5.519145  10.988924  8.099936  7.471473  6.988113  5.794548  7.634857   \n",
       "2519  5.519255  11.062813  8.116303  7.457509  6.972657  5.841219  7.539208   \n",
       "2520  5.523825  10.996097  8.150012  7.433831  6.944732  5.847965  7.644886   \n",
       "\n",
       "           7         8         9    ...        490       491       492  \\\n",
       "0     1.000000  1.000000  1.000000  ...   1.000000  1.000000  1.000000   \n",
       "1     0.994575  0.997229  1.004202  ...   1.000739  1.002145  0.988062   \n",
       "2     0.993254  0.999464  1.006350  ...   0.994637  0.999821  0.990173   \n",
       "3     0.994066  1.003665  0.999225  ...   0.992182  1.004858  0.982000   \n",
       "4     1.002733  0.986555  0.993800  ...   1.002861  1.003212  0.985276   \n",
       "...        ...       ...       ...  ...        ...       ...       ...   \n",
       "2516  4.332549  6.712313  6.050747  ...  12.106254  5.459804  5.722347   \n",
       "2517  4.320371  6.679819  6.022019  ...  12.055023  5.498683  5.716784   \n",
       "2518  4.376193  6.721727  6.068228  ...  12.130358  5.595270  5.703079   \n",
       "2519  4.336867  6.663105  5.994112  ...  12.193475  5.590050  5.709196   \n",
       "2520  4.380248  6.749557  6.007547  ...  12.251840  5.595021  5.741017   \n",
       "\n",
       "            493       494        495       496        497       498       499  \n",
       "0      1.000000  1.000000   1.000000  1.000000   1.000000  1.000000  1.000000  \n",
       "1      1.001218  0.999672   0.999621  1.002086   1.001080  1.001527  0.992470  \n",
       "2      1.007338  1.004622   0.995947  1.009686   0.995885  0.994127  0.998134  \n",
       "3      0.999098  1.007422   0.979072  0.995539   0.994162  0.992016  0.996807  \n",
       "4      1.004015  1.008864   0.976132  0.992866   1.006412  0.991252  0.992481  \n",
       "...         ...       ...        ...       ...        ...       ...       ...  \n",
       "2516  12.235720  9.163494  11.877967  6.734668  12.864630  7.079854  5.396783  \n",
       "2517  12.309576  9.181383  11.925725  6.688478  12.887334  6.992686  5.400168  \n",
       "2518  12.366907  9.170259  12.097731  6.702907  12.784869  7.022103  5.396744  \n",
       "2519  12.493068  9.117511  12.097353  6.713902  12.765668  7.020676  5.416036  \n",
       "2520  12.464500  9.062204  12.072052  6.760631  12.780317  7.013759  5.415442  \n",
       "\n",
       "[2521 rows x 500 columns]"
      ]
     },
     "execution_count": 71,
     "metadata": {},
     "output_type": "execute_result"
    }
   ],
   "source": [
    "# Run the Monte Carlo simulation to forecast 10 years cumulative returns\n",
    "mc_10year.calc_cumulative_return()\n"
   ]
  },
  {
   "cell_type": "code",
   "execution_count": 72,
   "metadata": {},
   "outputs": [
    {
     "data": {
      "image/png": "[encoded data removed]",
      "text/plain": [
       "<Figure size 432x288 with 1 Axes>"
      ]
     },
     "metadata": {
      "needs_background": "light"
     },
     "output_type": "display_data"
    }
   ],
   "source": [
    "# Visualize the 10-year Monte Carlo simulation by creating an\n",
    "# overlay line plot\n",
    "mc_sim_line_plot = mc_10year.plot_simulation()\n"
   ]
  },
  {
   "cell_type": "code",
   "execution_count": 73,
   "metadata": {},
   "outputs": [
    {
     "data": {
      "image/png": "[encoded data removed]",
      "text/plain": [
       "<Figure size 432x288 with 1 Axes>"
      ]
     },
     "metadata": {
      "needs_background": "light"
     },
     "output_type": "display_data"
    }
   ],
   "source": [
    "# Visualize the probability distribution of the 10-year Monte Carlo simulation \n",
    "# by plotting a histogram\n",
    "mc_sim_line_plot = mc_10year.plot_distribution()\n"
   ]
  },
  {
   "cell_type": "code",
   "execution_count": 74,
   "metadata": {},
   "outputs": [
    {
     "data": {
      "text/plain": [
       "count           500.000000\n",
       "mean              7.751794\n",
       "std               2.650099\n",
       "min               2.900363\n",
       "25%               5.702924\n",
       "50%               7.323955\n",
       "75%               9.180308\n",
       "max              23.507699\n",
       "95% CI Lower      3.942590\n",
       "95% CI Upper     13.370923\n",
       "Name: 2520, dtype: float64"
      ]
     },
     "execution_count": 74,
     "metadata": {},
     "output_type": "execute_result"
    }
   ],
   "source": [
    "# Generate summary statistics from the 10-year Monte Carlo simulation results\n",
    "# Save the results as a variable\n",
    "mc_10year_summary_stats = mc_10year.summarize_cumulative_return()\n",
    "\n",
    "# Review the 10-year Monte Carlo summary statistics\n",
    "mc_10year_summary_stats"
   ]
  },
  {
   "cell_type": "markdown",
   "metadata": {},
   "source": [
    "### Answer the following questions:"
   ]
  },
  {
   "cell_type": "markdown",
   "metadata": {},
   "source": [
    "#### Question: Using the current value of only the stock and bond portion of the member's portfolio and the summary statistics that you generated from the new Monte Carlo simulation, what are the lower and upper bounds for the expected value of the portfolio (with the new weights) with a 95% confidence interval?"
   ]
  },
  {
   "cell_type": "code",
   "execution_count": 75,
   "metadata": {},
   "outputs": [
    {
     "name": "stdout",
     "output_type": "stream",
     "text": [
      "The current balance of the stocks and bonds portion of the portfolio = $70,631.80.\n"
     ]
    }
   ],
   "source": [
    "# Print the current balance of the stock and bond portion of the members portfolio\n",
    "print(f\"The current balance of the stocks and bonds portion of the portfolio = {total_stocks_bonds_formatted}.\")\n"
   ]
  },
  {
   "cell_type": "code",
   "execution_count": 77,
   "metadata": {},
   "outputs": [
    {
     "name": "stdout",
     "output_type": "stream",
     "text": [
      "There is a 95% chance that an initial investment of $70,631.80 in the portfolio with a 80% weight in SPY and a 20% weight in AGG over the next 10 years will end within in the range of $278,472.25 and $944,412.39.\n"
     ]
    }
   ],
   "source": [
    "# Use the lower and upper `95%` confidence intervals to calculate the range of the possible outcomes for the current stock/bond portfolio\n",
    "ci_lower_thirty_cumulative_return = mc_10year_summary_stats[8] * total_stocks_bonds\n",
    "ci_upper_thirty_cumulative_return = mc_10year_summary_stats[9] * total_stocks_bonds\n",
    "\n",
    "ci_lower_thirty_cumulative_return_formatted = locale.currency(ci_lower_thirty_cumulative_return,grouping=True)\n",
    "ci_upper_thirty_cumulative_return_formatted = locale.currency(ci_upper_thirty_cumulative_return,grouping=True)\n",
    "\n",
    "# Print the result of your calculations\n",
    "print(f\"There is a 95% chance that an initial investment of {total_stocks_bonds_formatted} in the portfolio\"\n",
    "      f\" with a 80% weight in SPY and a 20% weight in AGG over the next 10 years will end within in the range of\"\n",
    "      f\" {ci_lower_thirty_cumulative_return_formatted} and {ci_upper_thirty_cumulative_return_formatted}.\")\n"
   ]
  },
  {
   "cell_type": "markdown",
   "metadata": {},
   "source": [
    "#### Question: Will weighting the portfolio more heavily to stocks allow the credit union members to retire after only 10 years?"
   ]
  },
  {
   "cell_type": "raw",
   "metadata": {},
   "source": [
    "**Answer** If members are looking to retire with, on average, ~ $ 500,000 in their portfolio, then an 80/20 split in stocks to bonds would provide them with that amount. It would be good to know what amount members would need in order to retire. If it's a million dollars, then there's a 95% probablity that the 80/20 mix would not provide them with enough upon which to retire within the tem year timeframe."
   ]
  },
  {
   "cell_type": "code",
   "execution_count": null,
   "metadata": {},
   "outputs": [],
   "source": []
  }
 ],
 "metadata": {
  "kernelspec": {
   "display_name": "Python (dev)",
   "language": "python",
   "name": "dev"
  },
  "language_info": {
   "codemirror_mode": {
    "name": "ipython",
    "version": 3
   },
   "file_extension": ".py",
   "mimetype": "text/x-python",
   "name": "python",
   "nbconvert_exporter": "python",
   "pygments_lexer": "ipython3",
   "version": "3.8.8"
  }
 },
 "nbformat": 4,
 "nbformat_minor": 4
}
